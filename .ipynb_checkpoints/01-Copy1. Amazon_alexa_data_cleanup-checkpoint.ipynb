{
 "cells": [
  {
   "cell_type": "code",
   "execution_count": 2,
   "metadata": {
    "ExecuteTime": {
     "end_time": "2018-08-24T05:57:37.083664Z",
     "start_time": "2018-08-24T05:57:34.863970Z"
    }
   },
   "outputs": [],
   "source": [
    "import json\n",
    "import pandas as pd\n",
    "import itertools\n",
    "import csv\n",
    "import pickle\n",
    "import nltk\n",
    "\n",
    "from sklearn.feature_extraction.text import CountVectorizer, TfidfVectorizer\n",
    "from sklearn.decomposition import NMF, TruncatedSVD\n",
    "from sklearn.decomposition import PCA"
   ]
  },
  {
   "cell_type": "code",
   "execution_count": 2,
   "metadata": {
    "ExecuteTime": {
     "end_time": "2018-08-22T08:52:28.206601Z",
     "start_time": "2018-08-22T08:52:28.202427Z"
    }
   },
   "outputs": [],
   "source": [
    "file_path = '/Users/xzhou/github/project_files/amazon/amazon_{}'\n",
    "\n",
    "alexa_file = file_path.format('alexa.tsv')\n",
    "echo_file = file_path.format('echo.csv')"
   ]
  },
  {
   "cell_type": "code",
   "execution_count": 3,
   "metadata": {
    "ExecuteTime": {
     "end_time": "2018-08-22T08:52:28.660126Z",
     "start_time": "2018-08-22T08:52:28.293301Z"
    }
   },
   "outputs": [
    {
     "data": {
      "text/html": [
       "<div>\n",
       "<style scoped>\n",
       "    .dataframe tbody tr th:only-of-type {\n",
       "        vertical-align: middle;\n",
       "    }\n",
       "\n",
       "    .dataframe tbody tr th {\n",
       "        vertical-align: top;\n",
       "    }\n",
       "\n",
       "    .dataframe thead th {\n",
       "        text-align: right;\n",
       "    }\n",
       "</style>\n",
       "<table border=\"1\" class=\"dataframe\">\n",
       "  <thead>\n",
       "    <tr style=\"text-align: right;\">\n",
       "      <th></th>\n",
       "      <th>rating</th>\n",
       "      <th>date</th>\n",
       "      <th>variation</th>\n",
       "      <th>verified_reviews</th>\n",
       "      <th>feedback</th>\n",
       "    </tr>\n",
       "  </thead>\n",
       "  <tbody>\n",
       "    <tr>\n",
       "      <th>0</th>\n",
       "      <td>5</td>\n",
       "      <td>2018-07-31</td>\n",
       "      <td>Charcoal Fabric</td>\n",
       "      <td>Love my Echo!</td>\n",
       "      <td>1</td>\n",
       "    </tr>\n",
       "    <tr>\n",
       "      <th>1</th>\n",
       "      <td>5</td>\n",
       "      <td>2018-07-31</td>\n",
       "      <td>Charcoal Fabric</td>\n",
       "      <td>Loved it!</td>\n",
       "      <td>1</td>\n",
       "    </tr>\n",
       "    <tr>\n",
       "      <th>2</th>\n",
       "      <td>4</td>\n",
       "      <td>2018-07-31</td>\n",
       "      <td>Walnut Finish</td>\n",
       "      <td>Sometimes while playing a game, you can answer...</td>\n",
       "      <td>1</td>\n",
       "    </tr>\n",
       "    <tr>\n",
       "      <th>3</th>\n",
       "      <td>5</td>\n",
       "      <td>2018-07-31</td>\n",
       "      <td>Charcoal Fabric</td>\n",
       "      <td>I have had a lot of fun with this thing. My 4 ...</td>\n",
       "      <td>1</td>\n",
       "    </tr>\n",
       "    <tr>\n",
       "      <th>4</th>\n",
       "      <td>5</td>\n",
       "      <td>2018-07-31</td>\n",
       "      <td>Charcoal Fabric</td>\n",
       "      <td>Music</td>\n",
       "      <td>1</td>\n",
       "    </tr>\n",
       "  </tbody>\n",
       "</table>\n",
       "</div>"
      ],
      "text/plain": [
       "   rating       date         variation  \\\n",
       "0       5 2018-07-31  Charcoal Fabric    \n",
       "1       5 2018-07-31  Charcoal Fabric    \n",
       "2       4 2018-07-31    Walnut Finish    \n",
       "3       5 2018-07-31  Charcoal Fabric    \n",
       "4       5 2018-07-31  Charcoal Fabric    \n",
       "\n",
       "                                    verified_reviews  feedback  \n",
       "0                                      Love my Echo!         1  \n",
       "1                                          Loved it!         1  \n",
       "2  Sometimes while playing a game, you can answer...         1  \n",
       "3  I have had a lot of fun with this thing. My 4 ...         1  \n",
       "4                                              Music         1  "
      ]
     },
     "execution_count": 3,
     "metadata": {},
     "output_type": "execute_result"
    }
   ],
   "source": [
    "# Load file #1. Parse date into date format\n",
    "\n",
    "df_alexa = pd.read_csv(alexa_file, sep='\\t', parse_dates=['date'])\n",
    "df_alexa.head()"
   ]
  },
  {
   "cell_type": "code",
   "execution_count": 4,
   "metadata": {
    "ExecuteTime": {
     "end_time": "2018-08-22T08:52:28.880413Z",
     "start_time": "2018-08-22T08:52:28.874460Z"
    }
   },
   "outputs": [],
   "source": [
    "# Drop columns that won't be used in analysis\n",
    "\n",
    "columns_to_drop = ['variation', 'feedback']\n",
    "df_alexa.drop(columns_to_drop, axis=1, inplace=True)"
   ]
  },
  {
   "cell_type": "code",
   "execution_count": 5,
   "metadata": {
    "ExecuteTime": {
     "end_time": "2018-08-22T08:52:29.076097Z",
     "start_time": "2018-08-22T08:52:29.058965Z"
    }
   },
   "outputs": [
    {
     "data": {
      "text/html": [
       "<div>\n",
       "<style scoped>\n",
       "    .dataframe tbody tr th:only-of-type {\n",
       "        vertical-align: middle;\n",
       "    }\n",
       "\n",
       "    .dataframe tbody tr th {\n",
       "        vertical-align: top;\n",
       "    }\n",
       "\n",
       "    .dataframe thead th {\n",
       "        text-align: right;\n",
       "    }\n",
       "</style>\n",
       "<table border=\"1\" class=\"dataframe\">\n",
       "  <thead>\n",
       "    <tr style=\"text-align: right;\">\n",
       "      <th></th>\n",
       "      <th>rating</th>\n",
       "      <th>date</th>\n",
       "      <th>review</th>\n",
       "    </tr>\n",
       "  </thead>\n",
       "  <tbody>\n",
       "    <tr>\n",
       "      <th>0</th>\n",
       "      <td>5</td>\n",
       "      <td>2018-07-31</td>\n",
       "      <td>Love my Echo!</td>\n",
       "    </tr>\n",
       "    <tr>\n",
       "      <th>1</th>\n",
       "      <td>5</td>\n",
       "      <td>2018-07-31</td>\n",
       "      <td>Loved it!</td>\n",
       "    </tr>\n",
       "    <tr>\n",
       "      <th>2</th>\n",
       "      <td>4</td>\n",
       "      <td>2018-07-31</td>\n",
       "      <td>Sometimes while playing a game, you can answer...</td>\n",
       "    </tr>\n",
       "    <tr>\n",
       "      <th>3</th>\n",
       "      <td>5</td>\n",
       "      <td>2018-07-31</td>\n",
       "      <td>I have had a lot of fun with this thing. My 4 ...</td>\n",
       "    </tr>\n",
       "    <tr>\n",
       "      <th>4</th>\n",
       "      <td>5</td>\n",
       "      <td>2018-07-31</td>\n",
       "      <td>Music</td>\n",
       "    </tr>\n",
       "  </tbody>\n",
       "</table>\n",
       "</div>"
      ],
      "text/plain": [
       "   rating       date                                             review\n",
       "0       5 2018-07-31                                      Love my Echo!\n",
       "1       5 2018-07-31                                          Loved it!\n",
       "2       4 2018-07-31  Sometimes while playing a game, you can answer...\n",
       "3       5 2018-07-31  I have had a lot of fun with this thing. My 4 ...\n",
       "4       5 2018-07-31                                              Music"
      ]
     },
     "execution_count": 5,
     "metadata": {},
     "output_type": "execute_result"
    }
   ],
   "source": [
    "df_alexa.rename(index=str, \n",
    "                columns={'verified_reviews': 'review'}, \n",
    "                inplace=True)\n",
    "df_alexa.head()"
   ]
  },
  {
   "cell_type": "code",
   "execution_count": 6,
   "metadata": {
    "ExecuteTime": {
     "end_time": "2018-08-22T08:52:29.372508Z",
     "start_time": "2018-08-22T08:52:29.355582Z"
    }
   },
   "outputs": [
    {
     "name": "stdout",
     "output_type": "stream",
     "text": [
      "(3150, 3)\n"
     ]
    },
    {
     "data": {
      "text/plain": [
       "rating    0\n",
       "date      0\n",
       "review    0\n",
       "dtype: int64"
      ]
     },
     "execution_count": 6,
     "metadata": {},
     "output_type": "execute_result"
    }
   ],
   "source": [
    "# Check for null values\n",
    "\n",
    "print (df_alexa.shape)\n",
    "df_alexa.isnull().sum()"
   ]
  },
  {
   "cell_type": "code",
   "execution_count": 7,
   "metadata": {
    "ExecuteTime": {
     "end_time": "2018-08-22T08:52:32.979269Z",
     "start_time": "2018-08-22T08:52:32.298201Z"
    }
   },
   "outputs": [
    {
     "data": {
      "text/html": [
       "<div>\n",
       "<style scoped>\n",
       "    .dataframe tbody tr th:only-of-type {\n",
       "        vertical-align: middle;\n",
       "    }\n",
       "\n",
       "    .dataframe tbody tr th {\n",
       "        vertical-align: top;\n",
       "    }\n",
       "\n",
       "    .dataframe thead th {\n",
       "        text-align: right;\n",
       "    }\n",
       "</style>\n",
       "<table border=\"1\" class=\"dataframe\">\n",
       "  <thead>\n",
       "    <tr style=\"text-align: right;\">\n",
       "      <th></th>\n",
       "      <th>Pageurl</th>\n",
       "      <th>Title</th>\n",
       "      <th>Review Text</th>\n",
       "      <th>Review Color</th>\n",
       "      <th>User Verified</th>\n",
       "      <th>Review Date</th>\n",
       "      <th>Review Useful Count</th>\n",
       "      <th>Configuration Text</th>\n",
       "      <th>Rating</th>\n",
       "      <th>Declaration Text</th>\n",
       "    </tr>\n",
       "  </thead>\n",
       "  <tbody>\n",
       "    <tr>\n",
       "      <th>0</th>\n",
       "      <td>https://www.amazon.com/All-New-Amazon-Echo-Dot...</td>\n",
       "      <td>Three Stars</td>\n",
       "      <td>Not great speakers</td>\n",
       "      <td>Black</td>\n",
       "      <td>Verified Purchase</td>\n",
       "      <td>2017-10-03</td>\n",
       "      <td>NaN</td>\n",
       "      <td>Echo Dot</td>\n",
       "      <td>3</td>\n",
       "      <td>NaN</td>\n",
       "    </tr>\n",
       "    <tr>\n",
       "      <th>1</th>\n",
       "      <td>https://www.amazon.com/All-New-Amazon-Echo-Dot...</td>\n",
       "      <td>Four Stars</td>\n",
       "      <td>Great little gagit</td>\n",
       "      <td>White</td>\n",
       "      <td>Verified Purchase</td>\n",
       "      <td>2017-09-26</td>\n",
       "      <td>NaN</td>\n",
       "      <td>Echo Dot</td>\n",
       "      <td>4</td>\n",
       "      <td>NaN</td>\n",
       "    </tr>\n",
       "    <tr>\n",
       "      <th>2</th>\n",
       "      <td>https://www.amazon.com/All-New-Amazon-Echo-Dot...</td>\n",
       "      <td>Awesome!</td>\n",
       "      <td>Awesome 👏🏽</td>\n",
       "      <td>White</td>\n",
       "      <td>Verified Purchase</td>\n",
       "      <td>2017-09-08</td>\n",
       "      <td>NaN</td>\n",
       "      <td>Echo Dot</td>\n",
       "      <td>5</td>\n",
       "      <td>NaN</td>\n",
       "    </tr>\n",
       "    <tr>\n",
       "      <th>3</th>\n",
       "      <td>https://www.amazon.com/All-New-Amazon-Echo-Dot...</td>\n",
       "      <td>Five Stars</td>\n",
       "      <td>Love my Echo</td>\n",
       "      <td>Black</td>\n",
       "      <td>Verified Purchase</td>\n",
       "      <td>2017-10-19</td>\n",
       "      <td>NaN</td>\n",
       "      <td>Echo Dot</td>\n",
       "      <td>5</td>\n",
       "      <td>NaN</td>\n",
       "    </tr>\n",
       "    <tr>\n",
       "      <th>4</th>\n",
       "      <td>https://www.amazon.com/All-New-Amazon-Echo-Dot...</td>\n",
       "      <td>Five Stars</td>\n",
       "      <td>Great device</td>\n",
       "      <td>Black</td>\n",
       "      <td>Verified Purchase</td>\n",
       "      <td>2017-09-17</td>\n",
       "      <td>NaN</td>\n",
       "      <td>Echo Dot</td>\n",
       "      <td>5</td>\n",
       "      <td>NaN</td>\n",
       "    </tr>\n",
       "  </tbody>\n",
       "</table>\n",
       "</div>"
      ],
      "text/plain": [
       "                                             Pageurl        Title  \\\n",
       "0  https://www.amazon.com/All-New-Amazon-Echo-Dot...  Three Stars   \n",
       "1  https://www.amazon.com/All-New-Amazon-Echo-Dot...   Four Stars   \n",
       "2  https://www.amazon.com/All-New-Amazon-Echo-Dot...     Awesome!   \n",
       "3  https://www.amazon.com/All-New-Amazon-Echo-Dot...   Five Stars   \n",
       "4  https://www.amazon.com/All-New-Amazon-Echo-Dot...   Five Stars   \n",
       "\n",
       "          Review Text Review Color      User Verified Review Date  \\\n",
       "0  Not great speakers        Black  Verified Purchase  2017-10-03   \n",
       "1  Great little gagit        White  Verified Purchase  2017-09-26   \n",
       "2          Awesome 👏🏽        White  Verified Purchase  2017-09-08   \n",
       "3        Love my Echo        Black  Verified Purchase  2017-10-19   \n",
       "4        Great device        Black  Verified Purchase  2017-09-17   \n",
       "\n",
       "   Review Useful Count Configuration Text  Rating Declaration Text  \n",
       "0                  NaN           Echo Dot       3              NaN  \n",
       "1                  NaN           Echo Dot       4              NaN  \n",
       "2                  NaN           Echo Dot       5              NaN  \n",
       "3                  NaN           Echo Dot       5              NaN  \n",
       "4                  NaN           Echo Dot       5              NaN  "
      ]
     },
     "execution_count": 7,
     "metadata": {},
     "output_type": "execute_result"
    }
   ],
   "source": [
    "# Load file #2, parse 'Review Date' as date type\n",
    "\n",
    "df_echo = pd.read_csv(echo_file, parse_dates=['Review Date'])\n",
    "df_echo.head(5)"
   ]
  },
  {
   "cell_type": "code",
   "execution_count": 8,
   "metadata": {
    "ExecuteTime": {
     "end_time": "2018-08-22T08:52:34.957912Z",
     "start_time": "2018-08-22T08:52:34.946015Z"
    }
   },
   "outputs": [
    {
     "data": {
      "text/html": [
       "<div>\n",
       "<style scoped>\n",
       "    .dataframe tbody tr th:only-of-type {\n",
       "        vertical-align: middle;\n",
       "    }\n",
       "\n",
       "    .dataframe tbody tr th {\n",
       "        vertical-align: top;\n",
       "    }\n",
       "\n",
       "    .dataframe thead th {\n",
       "        text-align: right;\n",
       "    }\n",
       "</style>\n",
       "<table border=\"1\" class=\"dataframe\">\n",
       "  <thead>\n",
       "    <tr style=\"text-align: right;\">\n",
       "      <th></th>\n",
       "      <th>Review Text</th>\n",
       "      <th>Review Date</th>\n",
       "      <th>Rating</th>\n",
       "    </tr>\n",
       "  </thead>\n",
       "  <tbody>\n",
       "    <tr>\n",
       "      <th>0</th>\n",
       "      <td>Not great speakers</td>\n",
       "      <td>2017-10-03</td>\n",
       "      <td>3</td>\n",
       "    </tr>\n",
       "    <tr>\n",
       "      <th>1</th>\n",
       "      <td>Great little gagit</td>\n",
       "      <td>2017-09-26</td>\n",
       "      <td>4</td>\n",
       "    </tr>\n",
       "    <tr>\n",
       "      <th>2</th>\n",
       "      <td>Awesome 👏🏽</td>\n",
       "      <td>2017-09-08</td>\n",
       "      <td>5</td>\n",
       "    </tr>\n",
       "    <tr>\n",
       "      <th>3</th>\n",
       "      <td>Love my Echo</td>\n",
       "      <td>2017-10-19</td>\n",
       "      <td>5</td>\n",
       "    </tr>\n",
       "    <tr>\n",
       "      <th>4</th>\n",
       "      <td>Great device</td>\n",
       "      <td>2017-09-17</td>\n",
       "      <td>5</td>\n",
       "    </tr>\n",
       "  </tbody>\n",
       "</table>\n",
       "</div>"
      ],
      "text/plain": [
       "          Review Text Review Date  Rating\n",
       "0  Not great speakers  2017-10-03       3\n",
       "1  Great little gagit  2017-09-26       4\n",
       "2          Awesome 👏🏽  2017-09-08       5\n",
       "3        Love my Echo  2017-10-19       5\n",
       "4        Great device  2017-09-17       5"
      ]
     },
     "execution_count": 8,
     "metadata": {},
     "output_type": "execute_result"
    }
   ],
   "source": [
    "# Drop columns that won't be used in analysis\n",
    "\n",
    "columns_to_drop2 = ['Pageurl', 'Title','Review Color', \n",
    "                    'User Verified','Review Useful Count', \n",
    "                    'Configuration Text','Declaration Text']\n",
    "df_echo.drop(columns_to_drop2, axis=1, inplace=True)\n",
    "df_echo.head()"
   ]
  },
  {
   "cell_type": "code",
   "execution_count": 9,
   "metadata": {
    "ExecuteTime": {
     "end_time": "2018-08-22T08:52:42.361496Z",
     "start_time": "2018-08-22T08:52:42.345993Z"
    }
   },
   "outputs": [
    {
     "data": {
      "text/html": [
       "<div>\n",
       "<style scoped>\n",
       "    .dataframe tbody tr th:only-of-type {\n",
       "        vertical-align: middle;\n",
       "    }\n",
       "\n",
       "    .dataframe tbody tr th {\n",
       "        vertical-align: top;\n",
       "    }\n",
       "\n",
       "    .dataframe thead th {\n",
       "        text-align: right;\n",
       "    }\n",
       "</style>\n",
       "<table border=\"1\" class=\"dataframe\">\n",
       "  <thead>\n",
       "    <tr style=\"text-align: right;\">\n",
       "      <th></th>\n",
       "      <th>rating</th>\n",
       "      <th>date</th>\n",
       "      <th>Review Text</th>\n",
       "    </tr>\n",
       "  </thead>\n",
       "  <tbody>\n",
       "    <tr>\n",
       "      <th>0</th>\n",
       "      <td>3</td>\n",
       "      <td>2017-10-03</td>\n",
       "      <td>Not great speakers</td>\n",
       "    </tr>\n",
       "    <tr>\n",
       "      <th>1</th>\n",
       "      <td>4</td>\n",
       "      <td>2017-09-26</td>\n",
       "      <td>Great little gagit</td>\n",
       "    </tr>\n",
       "    <tr>\n",
       "      <th>2</th>\n",
       "      <td>5</td>\n",
       "      <td>2017-09-08</td>\n",
       "      <td>Awesome 👏🏽</td>\n",
       "    </tr>\n",
       "    <tr>\n",
       "      <th>3</th>\n",
       "      <td>5</td>\n",
       "      <td>2017-10-19</td>\n",
       "      <td>Love my Echo</td>\n",
       "    </tr>\n",
       "    <tr>\n",
       "      <th>4</th>\n",
       "      <td>5</td>\n",
       "      <td>2017-09-17</td>\n",
       "      <td>Great device</td>\n",
       "    </tr>\n",
       "  </tbody>\n",
       "</table>\n",
       "</div>"
      ],
      "text/plain": [
       "   rating       date         Review Text\n",
       "0       3 2017-10-03  Not great speakers\n",
       "1       4 2017-09-26  Great little gagit\n",
       "2       5 2017-09-08          Awesome 👏🏽\n",
       "3       5 2017-10-19        Love my Echo\n",
       "4       5 2017-09-17        Great device"
      ]
     },
     "execution_count": 9,
     "metadata": {},
     "output_type": "execute_result"
    }
   ],
   "source": [
    "# Align the columns of 2 Dataframes. This is to parepare 2 Dataframes for concatenation\n",
    "\n",
    "df_echo.insert(0, 'date', df_echo['Review Date'])\n",
    "df_echo.insert(0, 'rating', df_echo['Rating'])\n",
    "df_echo.drop(['Review Date', 'Rating'], axis=1, inplace=True)\n",
    "df_echo.head()"
   ]
  },
  {
   "cell_type": "code",
   "execution_count": 10,
   "metadata": {
    "ExecuteTime": {
     "end_time": "2018-08-22T08:52:47.906369Z",
     "start_time": "2018-08-22T08:52:47.890772Z"
    },
    "scrolled": true
   },
   "outputs": [
    {
     "data": {
      "text/html": [
       "<div>\n",
       "<style scoped>\n",
       "    .dataframe tbody tr th:only-of-type {\n",
       "        vertical-align: middle;\n",
       "    }\n",
       "\n",
       "    .dataframe tbody tr th {\n",
       "        vertical-align: top;\n",
       "    }\n",
       "\n",
       "    .dataframe thead th {\n",
       "        text-align: right;\n",
       "    }\n",
       "</style>\n",
       "<table border=\"1\" class=\"dataframe\">\n",
       "  <thead>\n",
       "    <tr style=\"text-align: right;\">\n",
       "      <th></th>\n",
       "      <th>rating</th>\n",
       "      <th>date</th>\n",
       "      <th>review</th>\n",
       "    </tr>\n",
       "  </thead>\n",
       "  <tbody>\n",
       "    <tr>\n",
       "      <th>0</th>\n",
       "      <td>3</td>\n",
       "      <td>2017-10-03</td>\n",
       "      <td>Not great speakers</td>\n",
       "    </tr>\n",
       "    <tr>\n",
       "      <th>1</th>\n",
       "      <td>4</td>\n",
       "      <td>2017-09-26</td>\n",
       "      <td>Great little gagit</td>\n",
       "    </tr>\n",
       "    <tr>\n",
       "      <th>2</th>\n",
       "      <td>5</td>\n",
       "      <td>2017-09-08</td>\n",
       "      <td>Awesome 👏🏽</td>\n",
       "    </tr>\n",
       "    <tr>\n",
       "      <th>3</th>\n",
       "      <td>5</td>\n",
       "      <td>2017-10-19</td>\n",
       "      <td>Love my Echo</td>\n",
       "    </tr>\n",
       "    <tr>\n",
       "      <th>4</th>\n",
       "      <td>5</td>\n",
       "      <td>2017-09-17</td>\n",
       "      <td>Great device</td>\n",
       "    </tr>\n",
       "  </tbody>\n",
       "</table>\n",
       "</div>"
      ],
      "text/plain": [
       "   rating       date              review\n",
       "0       3 2017-10-03  Not great speakers\n",
       "1       4 2017-09-26  Great little gagit\n",
       "2       5 2017-09-08          Awesome 👏🏽\n",
       "3       5 2017-10-19        Love my Echo\n",
       "4       5 2017-09-17        Great device"
      ]
     },
     "execution_count": 10,
     "metadata": {},
     "output_type": "execute_result"
    }
   ],
   "source": [
    "df_echo.rename(index=str, \n",
    "                columns={'Review Text': 'review'}, \n",
    "                inplace=True)\n",
    "df_echo.head()"
   ]
  },
  {
   "cell_type": "code",
   "execution_count": 11,
   "metadata": {
    "ExecuteTime": {
     "end_time": "2018-08-22T08:53:00.201602Z",
     "start_time": "2018-08-22T08:53:00.196043Z"
    }
   },
   "outputs": [
    {
     "data": {
      "text/plain": [
       "(6855, 3)"
      ]
     },
     "execution_count": 11,
     "metadata": {},
     "output_type": "execute_result"
    }
   ],
   "source": [
    "df_echo.shape"
   ]
  },
  {
   "cell_type": "code",
   "execution_count": 12,
   "metadata": {
    "ExecuteTime": {
     "end_time": "2018-08-22T08:53:01.068033Z",
     "start_time": "2018-08-22T08:53:01.058479Z"
    }
   },
   "outputs": [
    {
     "data": {
      "text/plain": [
       "rating    0\n",
       "date      0\n",
       "review    3\n",
       "dtype: int64"
      ]
     },
     "execution_count": 12,
     "metadata": {},
     "output_type": "execute_result"
    }
   ],
   "source": [
    "df_echo.isnull().sum()"
   ]
  },
  {
   "cell_type": "code",
   "execution_count": 13,
   "metadata": {
    "ExecuteTime": {
     "end_time": "2018-08-22T08:53:08.296411Z",
     "start_time": "2018-08-22T08:53:08.284059Z"
    }
   },
   "outputs": [
    {
     "data": {
      "text/plain": [
       "rating    0\n",
       "date      0\n",
       "review    0\n",
       "dtype: int64"
      ]
     },
     "execution_count": 13,
     "metadata": {},
     "output_type": "execute_result"
    }
   ],
   "source": [
    "# Drop null values in review\n",
    "\n",
    "df_echo.dropna(inplace=True)\n",
    "df_echo.isnull().sum()"
   ]
  },
  {
   "cell_type": "code",
   "execution_count": 14,
   "metadata": {
    "ExecuteTime": {
     "end_time": "2018-08-22T08:53:27.931059Z",
     "start_time": "2018-08-22T08:53:27.917043Z"
    }
   },
   "outputs": [
    {
     "data": {
      "text/html": [
       "<div>\n",
       "<style scoped>\n",
       "    .dataframe tbody tr th:only-of-type {\n",
       "        vertical-align: middle;\n",
       "    }\n",
       "\n",
       "    .dataframe tbody tr th {\n",
       "        vertical-align: top;\n",
       "    }\n",
       "\n",
       "    .dataframe thead th {\n",
       "        text-align: right;\n",
       "    }\n",
       "</style>\n",
       "<table border=\"1\" class=\"dataframe\">\n",
       "  <thead>\n",
       "    <tr style=\"text-align: right;\">\n",
       "      <th></th>\n",
       "      <th>rating</th>\n",
       "      <th>date</th>\n",
       "      <th>review</th>\n",
       "    </tr>\n",
       "  </thead>\n",
       "  <tbody>\n",
       "    <tr>\n",
       "      <th>0</th>\n",
       "      <td>5</td>\n",
       "      <td>2018-07-31</td>\n",
       "      <td>Love my Echo!</td>\n",
       "    </tr>\n",
       "    <tr>\n",
       "      <th>1</th>\n",
       "      <td>5</td>\n",
       "      <td>2018-07-31</td>\n",
       "      <td>Loved it!</td>\n",
       "    </tr>\n",
       "    <tr>\n",
       "      <th>2</th>\n",
       "      <td>4</td>\n",
       "      <td>2018-07-31</td>\n",
       "      <td>Sometimes while playing a game, you can answer...</td>\n",
       "    </tr>\n",
       "    <tr>\n",
       "      <th>3</th>\n",
       "      <td>5</td>\n",
       "      <td>2018-07-31</td>\n",
       "      <td>I have had a lot of fun with this thing. My 4 ...</td>\n",
       "    </tr>\n",
       "    <tr>\n",
       "      <th>4</th>\n",
       "      <td>5</td>\n",
       "      <td>2018-07-31</td>\n",
       "      <td>Music</td>\n",
       "    </tr>\n",
       "  </tbody>\n",
       "</table>\n",
       "</div>"
      ],
      "text/plain": [
       "   rating       date                                             review\n",
       "0       5 2018-07-31                                      Love my Echo!\n",
       "1       5 2018-07-31                                          Loved it!\n",
       "2       4 2018-07-31  Sometimes while playing a game, you can answer...\n",
       "3       5 2018-07-31  I have had a lot of fun with this thing. My 4 ...\n",
       "4       5 2018-07-31                                              Music"
      ]
     },
     "execution_count": 14,
     "metadata": {},
     "output_type": "execute_result"
    }
   ],
   "source": [
    "# Merge two dataframes into one\n",
    "\n",
    "df = pd.concat([df_alexa, df_echo])\n",
    "df.head()"
   ]
  },
  {
   "cell_type": "code",
   "execution_count": 15,
   "metadata": {
    "ExecuteTime": {
     "end_time": "2018-08-22T08:53:28.977482Z",
     "start_time": "2018-08-22T08:53:28.971821Z"
    }
   },
   "outputs": [
    {
     "data": {
      "text/plain": [
       "(10002, 3)"
      ]
     },
     "execution_count": 15,
     "metadata": {},
     "output_type": "execute_result"
    }
   ],
   "source": [
    "df.shape"
   ]
  },
  {
   "cell_type": "code",
   "execution_count": null,
   "metadata": {},
   "outputs": [],
   "source": []
  },
  {
   "cell_type": "code",
   "execution_count": 17,
   "metadata": {
    "ExecuteTime": {
     "end_time": "2018-08-22T08:55:52.886108Z",
     "start_time": "2018-08-22T08:55:49.683080Z"
    }
   },
   "outputs": [],
   "source": [
    "# Break down reviews by word\n",
    "\n",
    "df['review_by_word'] = df['review'].apply(nltk.word_tokenize)"
   ]
  },
  {
   "cell_type": "code",
   "execution_count": 21,
   "metadata": {
    "ExecuteTime": {
     "end_time": "2018-08-22T08:58:46.017369Z",
     "start_time": "2018-08-22T08:58:45.995748Z"
    }
   },
   "outputs": [
    {
     "data": {
      "text/html": [
       "<div>\n",
       "<style scoped>\n",
       "    .dataframe tbody tr th:only-of-type {\n",
       "        vertical-align: middle;\n",
       "    }\n",
       "\n",
       "    .dataframe tbody tr th {\n",
       "        vertical-align: top;\n",
       "    }\n",
       "\n",
       "    .dataframe thead th {\n",
       "        text-align: right;\n",
       "    }\n",
       "</style>\n",
       "<table border=\"1\" class=\"dataframe\">\n",
       "  <thead>\n",
       "    <tr style=\"text-align: right;\">\n",
       "      <th></th>\n",
       "      <th>rating</th>\n",
       "      <th>date</th>\n",
       "      <th>review</th>\n",
       "      <th>review_by_word</th>\n",
       "      <th>word_count</th>\n",
       "    </tr>\n",
       "  </thead>\n",
       "  <tbody>\n",
       "    <tr>\n",
       "      <th>0</th>\n",
       "      <td>5</td>\n",
       "      <td>2018-07-31</td>\n",
       "      <td>Love my Echo!</td>\n",
       "      <td>[Love, my, Echo, !]</td>\n",
       "      <td>4</td>\n",
       "    </tr>\n",
       "    <tr>\n",
       "      <th>1</th>\n",
       "      <td>5</td>\n",
       "      <td>2018-07-31</td>\n",
       "      <td>Loved it!</td>\n",
       "      <td>[Loved, it, !]</td>\n",
       "      <td>3</td>\n",
       "    </tr>\n",
       "    <tr>\n",
       "      <th>2</th>\n",
       "      <td>4</td>\n",
       "      <td>2018-07-31</td>\n",
       "      <td>Sometimes while playing a game, you can answer...</td>\n",
       "      <td>[Sometimes, while, playing, a, game, ,, you, c...</td>\n",
       "      <td>41</td>\n",
       "    </tr>\n",
       "    <tr>\n",
       "      <th>3</th>\n",
       "      <td>5</td>\n",
       "      <td>2018-07-31</td>\n",
       "      <td>I have had a lot of fun with this thing. My 4 ...</td>\n",
       "      <td>[I, have, had, a, lot, of, fun, with, this, th...</td>\n",
       "      <td>38</td>\n",
       "    </tr>\n",
       "    <tr>\n",
       "      <th>4</th>\n",
       "      <td>5</td>\n",
       "      <td>2018-07-31</td>\n",
       "      <td>Music</td>\n",
       "      <td>[Music]</td>\n",
       "      <td>1</td>\n",
       "    </tr>\n",
       "  </tbody>\n",
       "</table>\n",
       "</div>"
      ],
      "text/plain": [
       "   rating       date                                             review  \\\n",
       "0       5 2018-07-31                                      Love my Echo!   \n",
       "1       5 2018-07-31                                          Loved it!   \n",
       "2       4 2018-07-31  Sometimes while playing a game, you can answer...   \n",
       "3       5 2018-07-31  I have had a lot of fun with this thing. My 4 ...   \n",
       "4       5 2018-07-31                                              Music   \n",
       "\n",
       "                                      review_by_word  word_count  \n",
       "0                                [Love, my, Echo, !]           4  \n",
       "1                                     [Loved, it, !]           3  \n",
       "2  [Sometimes, while, playing, a, game, ,, you, c...          41  \n",
       "3  [I, have, had, a, lot, of, fun, with, this, th...          38  \n",
       "4                                            [Music]           1  "
      ]
     },
     "execution_count": 21,
     "metadata": {},
     "output_type": "execute_result"
    }
   ],
   "source": [
    "# Perform a word count for each review. \n",
    "# This is to remove reviews that don't have minimum leangh\n",
    "\n",
    "df['word_count'] = df['review_by_word'].apply(len)\n",
    "df.head()"
   ]
  },
  {
   "cell_type": "code",
   "execution_count": 23,
   "metadata": {
    "ExecuteTime": {
     "end_time": "2018-08-22T09:01:27.260247Z",
     "start_time": "2018-08-22T09:01:27.252188Z"
    }
   },
   "outputs": [
    {
     "data": {
      "text/plain": [
       "(8347, 5)"
      ]
     },
     "execution_count": 23,
     "metadata": {},
     "output_type": "execute_result"
    }
   ],
   "source": [
    "# Drill down to comments that have meaningful length\n",
    "\n",
    "df_smaller = df[df['word_count']>=5]\n",
    "df_smaller.shape"
   ]
  },
  {
   "cell_type": "code",
   "execution_count": 25,
   "metadata": {
    "ExecuteTime": {
     "end_time": "2018-08-22T09:03:19.853494Z",
     "start_time": "2018-08-22T09:03:19.837924Z"
    }
   },
   "outputs": [
    {
     "data": {
      "text/plain": [
       "(7248, 5)"
      ]
     },
     "execution_count": 25,
     "metadata": {},
     "output_type": "execute_result"
    }
   ],
   "source": [
    "# Drop duplicate reviews if there are any\n",
    "\n",
    "df_smaller = df_smaller.drop_duplicates(['review'], keep='first')\n",
    "df_smaller.shape"
   ]
  },
  {
   "cell_type": "code",
   "execution_count": 4,
   "metadata": {
    "ExecuteTime": {
     "end_time": "2018-08-24T05:57:45.277911Z",
     "start_time": "2018-08-24T05:57:45.250223Z"
    }
   },
   "outputs": [
    {
     "data": {
      "text/html": [
       "<div>\n",
       "<style scoped>\n",
       "    .dataframe tbody tr th:only-of-type {\n",
       "        vertical-align: middle;\n",
       "    }\n",
       "\n",
       "    .dataframe tbody tr th {\n",
       "        vertical-align: top;\n",
       "    }\n",
       "\n",
       "    .dataframe thead th {\n",
       "        text-align: right;\n",
       "    }\n",
       "</style>\n",
       "<table border=\"1\" class=\"dataframe\">\n",
       "  <thead>\n",
       "    <tr style=\"text-align: right;\">\n",
       "      <th></th>\n",
       "      <th>rating</th>\n",
       "      <th>date</th>\n",
       "      <th>review</th>\n",
       "    </tr>\n",
       "  </thead>\n",
       "  <tbody>\n",
       "    <tr>\n",
       "      <th>2</th>\n",
       "      <td>4</td>\n",
       "      <td>2018-07-31</td>\n",
       "      <td>Sometimes while playing a game, you can answer...</td>\n",
       "    </tr>\n",
       "    <tr>\n",
       "      <th>3</th>\n",
       "      <td>5</td>\n",
       "      <td>2018-07-31</td>\n",
       "      <td>I have had a lot of fun with this thing. My 4 ...</td>\n",
       "    </tr>\n",
       "    <tr>\n",
       "      <th>5</th>\n",
       "      <td>5</td>\n",
       "      <td>2018-07-31</td>\n",
       "      <td>I received the echo as a gift. I needed anothe...</td>\n",
       "    </tr>\n",
       "    <tr>\n",
       "      <th>6</th>\n",
       "      <td>3</td>\n",
       "      <td>2018-07-31</td>\n",
       "      <td>Without having a cellphone, I cannot use many ...</td>\n",
       "    </tr>\n",
       "    <tr>\n",
       "      <th>7</th>\n",
       "      <td>5</td>\n",
       "      <td>2018-07-31</td>\n",
       "      <td>I think this is the 5th one I've purchased. I'...</td>\n",
       "    </tr>\n",
       "  </tbody>\n",
       "</table>\n",
       "</div>"
      ],
      "text/plain": [
       "   rating       date                                             review\n",
       "2       4 2018-07-31  Sometimes while playing a game, you can answer...\n",
       "3       5 2018-07-31  I have had a lot of fun with this thing. My 4 ...\n",
       "5       5 2018-07-31  I received the echo as a gift. I needed anothe...\n",
       "6       3 2018-07-31  Without having a cellphone, I cannot use many ...\n",
       "7       5 2018-07-31  I think this is the 5th one I've purchased. I'..."
      ]
     },
     "execution_count": 4,
     "metadata": {},
     "output_type": "execute_result"
    }
   ],
   "source": [
    "df_smaller.drop(['review_by_word', 'word_count'], axis=1, inplace=True)\n",
    "df_smaller.head()"
   ]
  },
  {
   "cell_type": "code",
   "execution_count": 5,
   "metadata": {
    "ExecuteTime": {
     "end_time": "2018-08-24T05:58:04.204822Z",
     "start_time": "2018-08-24T05:58:04.190353Z"
    }
   },
   "outputs": [],
   "source": [
    "# Store data in pickle file for further analysis\n",
    "\n",
    "pkl_path = '/Users/xzhou/github/project_files/amazon/amazon_alexa_reviews_final.pkl'\n",
    "\n",
    "try:\n",
    "    with open(pkl_path, 'rb') as pkl_file:\n",
    "        df_smaller = pd.read_pickle(pkl_file)\n",
    "except:\n",
    "    with open(pkl_path, 'wb') as pkl_file:\n",
    "        df_smaller.to_pickle(pkl_file)"
   ]
  },
  {
   "cell_type": "code",
   "execution_count": null,
   "metadata": {},
   "outputs": [],
   "source": []
  }
 ],
 "metadata": {
  "kernelspec": {
   "display_name": "Python 3",
   "language": "python",
   "name": "python3"
  },
  "language_info": {
   "codemirror_mode": {
    "name": "ipython",
    "version": 3
   },
   "file_extension": ".py",
   "mimetype": "text/x-python",
   "name": "python",
   "nbconvert_exporter": "python",
   "pygments_lexer": "ipython3",
   "version": "3.6.6"
  },
  "varInspector": {
   "cols": {
    "lenName": 16,
    "lenType": 16,
    "lenVar": 40
   },
   "kernels_config": {
    "python": {
     "delete_cmd_postfix": "",
     "delete_cmd_prefix": "del ",
     "library": "var_list.py",
     "varRefreshCmd": "print(var_dic_list())"
    },
    "r": {
     "delete_cmd_postfix": ") ",
     "delete_cmd_prefix": "rm(",
     "library": "var_list.r",
     "varRefreshCmd": "cat(var_dic_list()) "
    }
   },
   "types_to_exclude": [
    "module",
    "function",
    "builtin_function_or_method",
    "instance",
    "_Feature"
   ],
   "window_display": false
  }
 },
 "nbformat": 4,
 "nbformat_minor": 2
}
