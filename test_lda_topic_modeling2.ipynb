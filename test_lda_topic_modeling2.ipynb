{
 "cells": [
  {
   "cell_type": "code",
   "execution_count": 2,
   "metadata": {
    "ExecuteTime": {
     "end_time": "2018-08-23T19:05:13.257786Z",
     "start_time": "2018-08-23T19:05:13.193309Z"
    }
   },
   "outputs": [],
   "source": [
    "import pandas as pd\n",
    "data = pd.read_csv('/Users/xzhou/github/project_files/amazon/amazon_echo.csv', error_bad_lines=False);\n",
    "# data_text = data[['headline_text']]\n",
    "# data_text['index'] = data_text.index\n",
    "# documents = data_text"
   ]
  },
  {
   "cell_type": "code",
   "execution_count": null,
   "metadata": {},
   "outputs": [],
   "source": []
  },
  {
   "cell_type": "markdown",
   "metadata": {},
   "source": [
    "Data Pre-processing\n",
    "We will perform the following steps:\n",
    "Tokenization: Split the text into sentences and the sentences into words. Lowercase the words and remove punctuation.\n",
    "Words that have fewer than 3 characters are removed.\n",
    "All stopwords are removed.\n",
    "Words are lemmatized — words in third person are changed to first person and verbs in past and future tenses are changed into present.\n",
    "Words are stemmed — words are reduced to their root form.\n",
    "Loading gensim and nltk libraries"
   ]
  },
  {
   "cell_type": "code",
   "execution_count": 3,
   "metadata": {
    "ExecuteTime": {
     "end_time": "2018-08-23T19:05:19.685213Z",
     "start_time": "2018-08-23T19:05:19.656685Z"
    }
   },
   "outputs": [
    {
     "data": {
      "text/html": [
       "<div>\n",
       "<style scoped>\n",
       "    .dataframe tbody tr th:only-of-type {\n",
       "        vertical-align: middle;\n",
       "    }\n",
       "\n",
       "    .dataframe tbody tr th {\n",
       "        vertical-align: top;\n",
       "    }\n",
       "\n",
       "    .dataframe thead th {\n",
       "        text-align: right;\n",
       "    }\n",
       "</style>\n",
       "<table border=\"1\" class=\"dataframe\">\n",
       "  <thead>\n",
       "    <tr style=\"text-align: right;\">\n",
       "      <th></th>\n",
       "      <th>Pageurl</th>\n",
       "      <th>Title</th>\n",
       "      <th>Review Text</th>\n",
       "      <th>Review Color</th>\n",
       "      <th>User Verified</th>\n",
       "      <th>Review Date</th>\n",
       "      <th>Review Useful Count</th>\n",
       "      <th>Configuration Text</th>\n",
       "      <th>Rating</th>\n",
       "      <th>Declaration Text</th>\n",
       "    </tr>\n",
       "  </thead>\n",
       "  <tbody>\n",
       "    <tr>\n",
       "      <th>0</th>\n",
       "      <td>https://www.amazon.com/All-New-Amazon-Echo-Dot...</td>\n",
       "      <td>Three Stars</td>\n",
       "      <td>Not great speakers</td>\n",
       "      <td>Black</td>\n",
       "      <td>Verified Purchase</td>\n",
       "      <td>10/3/2017</td>\n",
       "      <td>NaN</td>\n",
       "      <td>Echo Dot</td>\n",
       "      <td>3</td>\n",
       "      <td>NaN</td>\n",
       "    </tr>\n",
       "    <tr>\n",
       "      <th>1</th>\n",
       "      <td>https://www.amazon.com/All-New-Amazon-Echo-Dot...</td>\n",
       "      <td>Four Stars</td>\n",
       "      <td>Great little gagit</td>\n",
       "      <td>White</td>\n",
       "      <td>Verified Purchase</td>\n",
       "      <td>9/26/2017</td>\n",
       "      <td>NaN</td>\n",
       "      <td>Echo Dot</td>\n",
       "      <td>4</td>\n",
       "      <td>NaN</td>\n",
       "    </tr>\n",
       "    <tr>\n",
       "      <th>2</th>\n",
       "      <td>https://www.amazon.com/All-New-Amazon-Echo-Dot...</td>\n",
       "      <td>Awesome!</td>\n",
       "      <td>Awesome 👏🏽</td>\n",
       "      <td>White</td>\n",
       "      <td>Verified Purchase</td>\n",
       "      <td>9/8/2017</td>\n",
       "      <td>NaN</td>\n",
       "      <td>Echo Dot</td>\n",
       "      <td>5</td>\n",
       "      <td>NaN</td>\n",
       "    </tr>\n",
       "    <tr>\n",
       "      <th>3</th>\n",
       "      <td>https://www.amazon.com/All-New-Amazon-Echo-Dot...</td>\n",
       "      <td>Five Stars</td>\n",
       "      <td>Love my Echo</td>\n",
       "      <td>Black</td>\n",
       "      <td>Verified Purchase</td>\n",
       "      <td>10/19/2017</td>\n",
       "      <td>NaN</td>\n",
       "      <td>Echo Dot</td>\n",
       "      <td>5</td>\n",
       "      <td>NaN</td>\n",
       "    </tr>\n",
       "    <tr>\n",
       "      <th>4</th>\n",
       "      <td>https://www.amazon.com/All-New-Amazon-Echo-Dot...</td>\n",
       "      <td>Five Stars</td>\n",
       "      <td>Great device</td>\n",
       "      <td>Black</td>\n",
       "      <td>Verified Purchase</td>\n",
       "      <td>9/17/2017</td>\n",
       "      <td>NaN</td>\n",
       "      <td>Echo Dot</td>\n",
       "      <td>5</td>\n",
       "      <td>NaN</td>\n",
       "    </tr>\n",
       "  </tbody>\n",
       "</table>\n",
       "</div>"
      ],
      "text/plain": [
       "                                             Pageurl        Title  \\\n",
       "0  https://www.amazon.com/All-New-Amazon-Echo-Dot...  Three Stars   \n",
       "1  https://www.amazon.com/All-New-Amazon-Echo-Dot...   Four Stars   \n",
       "2  https://www.amazon.com/All-New-Amazon-Echo-Dot...     Awesome!   \n",
       "3  https://www.amazon.com/All-New-Amazon-Echo-Dot...   Five Stars   \n",
       "4  https://www.amazon.com/All-New-Amazon-Echo-Dot...   Five Stars   \n",
       "\n",
       "          Review Text Review Color      User Verified Review Date  \\\n",
       "0  Not great speakers        Black  Verified Purchase   10/3/2017   \n",
       "1  Great little gagit        White  Verified Purchase   9/26/2017   \n",
       "2          Awesome 👏🏽        White  Verified Purchase    9/8/2017   \n",
       "3        Love my Echo        Black  Verified Purchase  10/19/2017   \n",
       "4        Great device        Black  Verified Purchase   9/17/2017   \n",
       "\n",
       "   Review Useful Count Configuration Text  Rating Declaration Text  \n",
       "0                  NaN           Echo Dot       3              NaN  \n",
       "1                  NaN           Echo Dot       4              NaN  \n",
       "2                  NaN           Echo Dot       5              NaN  \n",
       "3                  NaN           Echo Dot       5              NaN  \n",
       "4                  NaN           Echo Dot       5              NaN  "
      ]
     },
     "execution_count": 3,
     "metadata": {},
     "output_type": "execute_result"
    }
   ],
   "source": [
    "data.head()"
   ]
  },
  {
   "cell_type": "code",
   "execution_count": 21,
   "metadata": {
    "ExecuteTime": {
     "end_time": "2018-08-23T19:25:13.914481Z",
     "start_time": "2018-08-23T19:25:13.906743Z"
    }
   },
   "outputs": [
    {
     "name": "stdout",
     "output_type": "stream",
     "text": [
      "[nltk_data] Downloading package wordnet to /Users/xzhou/nltk_data...\n",
      "[nltk_data]   Package wordnet is already up-to-date!\n"
     ]
    },
    {
     "data": {
      "text/plain": [
       "True"
      ]
     },
     "execution_count": 21,
     "metadata": {},
     "output_type": "execute_result"
    }
   ],
   "source": [
    "# Loading gensim and nltk libraries\n",
    "\n",
    "import gensim\n",
    "from gensim.utils import simple_preprocess\n",
    "from gensim.parsing.preprocessing import STOPWORDS\n",
    "from nltk.stem import WordNetLemmatizer, SnowballStemmer\n",
    "from nltk.stem.porter import *\n",
    "import numpy as np\n",
    "np.random.seed(2018)\n",
    "import nltk\n",
    "nltk.download('wordnet')"
   ]
  },
  {
   "cell_type": "code",
   "execution_count": 8,
   "metadata": {
    "ExecuteTime": {
     "end_time": "2018-08-23T19:14:54.899505Z",
     "start_time": "2018-08-23T19:14:54.891678Z"
    }
   },
   "outputs": [],
   "source": [
    "# Write a function to perform lemmatize and stem preprocessing steps on the data set.\n",
    "\n",
    "def lemmatize_stemming(text):\n",
    "    return stemmer.stem(WordNetLemmatizer().lemmatize(text, pos='v'))\n",
    "def preprocess(text):\n",
    "    result = []\n",
    "    for token in gensim.utils.simple_preprocess(text):\n",
    "        if token not in gensim.parsing.preprocessing.STOPWORDS and len(token) > 3:\n",
    "            result.append(lemmatize_stemming(token))\n",
    "    return result"
   ]
  },
  {
   "cell_type": "code",
   "execution_count": 16,
   "metadata": {
    "ExecuteTime": {
     "end_time": "2018-08-23T19:21:56.343709Z",
     "start_time": "2018-08-23T19:21:56.336022Z"
    }
   },
   "outputs": [
    {
     "data": {
      "text/plain": [
       "Pageurl                https://www.amazon.com/All-New-Amazon-Echo-Dot...\n",
       "Title                                                         Four Stars\n",
       "Review Text                                           Great little gagit\n",
       "Review Color                                                       White\n",
       "User Verified                                          Verified Purchase\n",
       "Review Date                                                    9/26/2017\n",
       "Review Useful Count                                                  NaN\n",
       "Configuration Text                                              Echo Dot\n",
       "Rating                                                                 4\n",
       "Declaration Text                                                     NaN\n",
       "Name: 1, dtype: object"
      ]
     },
     "execution_count": 16,
     "metadata": {},
     "output_type": "execute_result"
    }
   ],
   "source": [
    "data.iloc[1, :]"
   ]
  },
  {
   "cell_type": "code",
   "execution_count": 22,
   "metadata": {
    "ExecuteTime": {
     "end_time": "2018-08-23T19:26:44.705248Z",
     "start_time": "2018-08-23T19:26:44.635855Z"
    }
   },
   "outputs": [
    {
     "name": "stdout",
     "output_type": "stream",
     "text": [
      "original document: \n",
      "['', '', '', '', '', '', '', '', '', '', '', '', '', '', '', '', '', '', '', '', '', '', '', '', '', '', '', '', '', '', '', '', '', '', '', '', '', '', '', '', '', '', '', '', '', '', '', '', 'Pageurl', '', '\\\\\\n0', '', '', '', '', 'https://www.amazon.com/All-New-Amazon-Echo-Dot...', '', '', '\\n1', '', '', '', '', 'https://www.amazon.com/All-New-Amazon-Echo-Dot...', '', '', '\\n2', '', '', '', '', 'https://www.amazon.com/All-New-Amazon-Echo-Dot...', '', '', '\\n3', '', '', '', '', 'https://www.amazon.com/All-New-Amazon-Echo-Dot...', '', '', '\\n4', '', '', '', '', 'https://www.amazon.com/All-New-Amazon-Echo-Dot...', '', '', '\\n5', '', '', '', '', 'https://www.amazon.com/All-New-Amazon-Echo-Dot...', '', '', '\\n6', '', '', '', '', 'https://www.amazon.com/All-New-Amazon-Echo-Dot...', '', '', '\\n7', '', '', '', '', 'https://www.amazon.com/All-New-Amazon-Echo-Dot...', '', '', '\\n8', '', '', '', '', 'https://www.amazon.com/All-New-Amazon-Echo-Dot...', '', '', '\\n9', '', '', '', '', 'https://www.amazon.com/All-New-Amazon-Echo-Dot...', '', '', '\\n10', '', '', '', 'https://www.amazon.com/All-New-Amazon-Echo-Dot...', '', '', '\\n11', '', '', '', 'https://www.amazon.com/All-New-Amazon-Echo-Dot...', '', '', '\\n12', '', '', '', 'https://www.amazon.com/All-New-Amazon-Echo-Dot...', '', '', '\\n13', '', '', '', 'https://www.amazon.com/All-New-Amazon-Echo-Dot...', '', '', '\\n14', '', '', '', 'https://www.amazon.com/All-New-Amazon-Echo-Dot...', '', '', '\\n15', '', '', '', 'https://www.amazon.com/All-New-Amazon-Echo-Dot...', '', '', '\\n16', '', '', '', 'https://www.amazon.com/All-New-Amazon-Echo-Dot...', '', '', '\\n17', '', '', '', 'https://www.amazon.com/All-New-Amazon-Echo-Dot...', '', '', '\\n18', '', '', '', 'https://www.amazon.com/All-New-Amazon-Echo-Dot...', '', '', '\\n19', '', '', '', 'https://www.amazon.com/All-New-Amazon-Echo-Dot...', '', '', '\\n20', '', '', '', 'https://www.amazon.com/All-New-Amazon-Echo-Dot...', '', '', '\\n21', '', '', '', 'https://www.amazon.com/All-New-Amazon-Echo-Dot...', '', '', '\\n22', '', '', '', 'https://www.amazon.com/All-New-Amazon-Echo-Dot...', '', '', '\\n23', '', '', '', 'https://www.amazon.com/All-New-Amazon-Echo-Dot...', '', '', '\\n24', '', '', '', 'https://www.amazon.com/All-New-Amazon-Echo-Dot...', '', '', '\\n25', '', '', '', 'https://www.amazon.com/All-New-Amazon-Echo-Dot...', '', '', '\\n26', '', '', '', 'https://www.amazon.com/All-New-Amazon-Echo-Dot...', '', '', '\\n27', '', '', '', 'https://www.amazon.com/All-New-Amazon-Echo-Dot...', '', '', '\\n28', '', '', '', 'https://www.amazon.com/All-New-Amazon-Echo-Dot...', '', '', '\\n29', '', '', '', 'https://www.amazon.com/All-New-Amazon-Echo-Dot...', '', '', '\\n...', '', '', '', '', '', '', '', '', '', '', '', '', '', '', '', '', '', '', '', '', '', '', '', '', '', '', '', '', '', '', '', '', '', '', '', '', '', '', '', '', '', '', '', '', '', '', '', '', '...', '', '', '\\n6825', '', 'https://www.amazon.com/All-New-Amazon-Echo-Dot...', '', '', '\\n6826', '', 'https://www.amazon.com/All-New-Amazon-Echo-Dot...', '', '', '\\n6827', '', 'https://www.amazon.com/All-New-Amazon-Echo-Dot...', '', '', '\\n6828', '', 'https://www.amazon.com/All-New-Amazon-Echo-Dot...', '', '', '\\n6829', '', 'https://www.amazon.com/All-New-Amazon-Echo-Dot...', '', '', '\\n6830', '', 'https://www.amazon.com/All-New-Amazon-Echo-Dot...', '', '', '\\n6831', '', 'https://www.amazon.com/All-New-Amazon-Echo-Dot...', '', '', '\\n6832', '', 'https://www.amazon.com/All-New-Amazon-Echo-Dot...', '', '', '\\n6833', '', 'https://www.amazon.com/All-New-Amazon-Echo-Dot...', '', '', '\\n6834', '', 'https://www.amazon.com/All-New-Amazon-Echo-Dot...', '', '', '\\n6835', '', 'https://www.amazon.com/All-New-Amazon-Echo-Dot...', '', '', '\\n6836', '', 'https://www.amazon.com/All-New-Amazon-Echo-Dot...', '', '', '\\n6837', '', 'https://www.amazon.com/All-New-Amazon-Echo-Dot...', '', '', '\\n6838', '', 'https://www.amazon.com/All-New-Amazon-Echo-Dot...', '', '', '\\n6839', '', 'https://www.amazon.com/All-New-Amazon-Echo-Dot...', '', '', '\\n6840', '', 'https://www.amazon.com/All-New-Amazon-Echo-Dot...', '', '', '\\n6841', '', 'https://www.amazon.com/All-New-Amazon-Echo-Dot...', '', '', '\\n6842', '', 'https://www.amazon.com/All-New-Amazon-Echo-Dot...', '', '', '\\n6843', '', 'https://www.amazon.com/All-New-Amazon-Echo-Dot...', '', '', '\\n6844', '', 'https://www.amazon.com/All-New-Amazon-Echo-Dot...', '', '', '\\n6845', '', 'https://www.amazon.com/All-New-Amazon-Echo-Dot...', '', '', '\\n6846', '', 'https://www.amazon.com/All-New-Amazon-Echo-Dot...', '', '', '\\n6847', '', 'https://www.amazon.com/All-New-Amazon-Echo-Dot...', '', '', '\\n6848', '', 'https://www.amazon.com/All-New-Amazon-Echo-Dot...', '', '', '\\n6849', '', 'https://www.amazon.com/All-New-Amazon-Echo-Dot...', '', '', '\\n6850', '', 'https://www.amazon.com/All-New-Amazon-Echo-Dot...', '', '', '\\n6851', '', 'https://www.amazon.com/All-New-Amazon-Echo-Dot...', '', '', '\\n6852', '', 'https://www.amazon.com/All-New-Amazon-Echo-Dot...', '', '', '\\n6853', '', 'https://www.amazon.com/All-New-Amazon-Echo-Dot...', '', '', '\\n6854', '', 'https://www.amazon.com/All-New-Amazon-Echo-Dot...', '', '', '\\n\\n', '', '', '', '', '', '', '', '', '', '', '', '', '', '', '', '', '', '', '', '', '', '', '', '', '', '', '', '', '', '', '', '', '', '', '', '', '', '', '', '', '', '', '', '', '', '', '', '', '', 'Title', '', '\\\\\\n0', '', '', '', '', '', '', '', '', '', '', '', '', '', '', '', '', '', '', '', '', '', '', '', '', '', '', '', '', '', '', '', '', '', '', '', '', '', '', '', '', '', '', 'Three', 'Stars', '', '', '\\n1', '', '', '', '', '', '', '', '', '', '', '', '', '', '', '', '', '', '', '', '', '', '', '', '', '', '', '', '', '', '', '', '', '', '', '', '', '', '', '', '', '', '', '', 'Four', 'Stars', '', '', '\\n2', '', '', '', '', '', '', '', '', '', '', '', '', '', '', '', '', '', '', '', '', '', '', '', '', '', '', '', '', '', '', '', '', '', '', '', '', '', '', '', '', '', '', '', '', '', 'Awesome!', '', '', '\\n3', '', '', '', '', '', '', '', '', '', '', '', '', '', '', '', '', '', '', '', '', '', '', '', '', '', '', '', '', '', '', '', '', '', '', '', '', '', '', '', '', '', '', '', 'Five', 'Stars', '', '', '\\n4', '', '', '', '', '', '', '', '', '', '', '', '', '', '', '', '', '', '', '', '', '', '', '', '', '', '', '', '', '', '', '', '', '', '', '', '', '', '', '', '', '', '', '', 'Five', 'Stars', '', '', '\\n5', '', '', '', '', '', '', '', '', '', '', '', '', '', '', '', '', '', '', '', '', '', '', '', '', '', '', '', '', '', '', '', '', '', '', '', '', '', '', '', '', '', '', '', '', '', '', '', '', '', '', 'Dot', '', '', '\\n6', '', '', '', '', '', '', '', '', '', '', '', '', '', '', '', '', '', '', '', '', '', '', '', '', '', '', '', '', '', '', '', '', '', '', '', '', '', '', '', '', '', '', '', '', 'Getttt', 'it', '', '', '\\n7', '', '', '', '', '', '', '', '', '', '', '', '', '', '', '', '', '', '', '', '', '', '', '', '', '', '', '', '', '', '', '', '', 'Great', 'for', 'what', 'it', 'is!', '', '', '\\n8', '', '', '', '', '', '', '', '', '', '', '', '', '', '', '', '', '', '', '', '', '', '', '', '', '', '', '', '', '', '', '', '', '', '', '', '', '', '', '', '', 'Died', 'suddenly', '', '', '\\n9', '', '', '', '', 'Awesome', 'for', 'music', 'lovers', 'when', 'paired', 'with', 'a', 'so...', '', '', '\\n10', '', '', '', '', '', '', '', '', '', '', '', '', '', '', '', '', '', '', '', '', '', '', '', '', '', '', '', 'Had', 'to', 'get', 'more', 'than', 'one!', '', '', '\\n11', '', '', '', '', '', '', '', '', '', '', 'This', 'is', 'the', 'greatest', 'thing', 'since', 'chocolate', '', '', '\\n12', '', '', '', '', '', '', '', '', '', '', '', '', '', '', '', '', '', '', '', '', '', '', '', '', '', '', '', '', '', '', '', '', '', '', '', '', '', '', '', '', '', 'great', 'gift!', '', '', '\\n13', '', '', '', '', '', '', '', '', '', '', '', '', '', '', '', '', '', '', '', '', '', '', '', '', '', '', '', '', '', '', '', '', '', '', '', '', '', '', '', '', '', '', '', '', 'Love', 'it!', '', '', '\\n14', '', '', '', '', '', '', '', '', '', '', '', '', '', '', '', '', '', '', '', '', '', '', '', '', '', '', '', '', '', '', '', '', '', '', '', '', '', '', '', '', '', '', 'Five', 'Stars', '', '', '\\n15', '', '', '', '', '', '', '', '', '', '', '', '', '', '', '', '', '', '', '', '', '', '', '', '', '', '', '', '', '', '', '', '', '', '', '', '', '', '', '', '', '', '', 'Five', 'Stars', '', '', '\\n16', '', '', '', '', '', '', '', '', '', '', '', '', '', '', '', '', '', '', '', '', '', '', '', '', '', '', '', '', '', '', '', '', '', '', '', '', '', '', '', '', '', '', 'Five', 'Stars', '', '', '\\n17', '', '', '', '', '', '', '', '', '', '', '', '', '', '', '', '', '', '', '', '', '', '', '', '', '', '', '', '', '', '', '', '', '', '', 'Happy', 'with', 'her', 'Dot', '', '', '\\n18', '', '', '', '', '', '', '', '', '', '', '', '', '', '', '', '', '', '', '', '', '', '', '', '', '', '', '', '', '', '', '', '', '', '', '', '', '', '', '', '', '', 'Three', 'Stars', '', '', '\\n19', '', '', '', '', '', '', '', '', '', '', '', '', '', '', '', '', '', '', '', '', '', '', '', '', '', '', '', '', '', '', '', '', '', '', '', '', '', '', '', '', '', 'Three', 'Stars', '', '', '\\n20', '', '', '', '', '', '', '', '', '', '', '', '', '', '', '', 'This', 'is', 'the', 'second', 'one', 'for', 'the', 'house.', '', '', '\\n21', '', '', '', '', '', '', '', '', '', '', '', '', '', '', '', '', '', '', '', '', '', '', '', '', '', '', '', '', '', '', '', '', '', '', '', '', '', '', '', '', '', '', 'Five', 'Stars', '', '', '\\n22', '', '', '', '', '', '', '', '', '', '', '', '', '', '', '', '', '', '', '', '', '', '', '', '', '', '', '', '', '', '', '', '', '', '', '', '', '', '', '', '', '', '', 'Five', 'Stars', '', '', '\\n23', '', '', '', '', '', 'Great', 'device,', 'does', 'so', 'much', 'more', 'than', 'I', 'expected', '', '', '\\n24', '', '', '', '', 'Device', 'continuously', 'resets', 'when', 'given', 'a', 'command.', '', '', '\\n25', '', '', '', '', '', '', '', '', '', '', '', '', '', '', '', '', '', '', '', '', '', \"Can't\", 'imagine', 'living', 'without', 'it', '', '', '\\n26', '', '', '', '', '', '', '', '', '', '', '', '', '', 'NO', 'MORE', 'EXTERNAL', 'CONNECTORS', 'ON', 'THE', 'SIDE', '', '', '\\n27', '', '', '', '', '', '', '', '', '', '', '', '', '', '', '', '', '', '', '', '', '', '', '', '', '', '', '', '', '', '', 'I', 'like', 'it', 'very', 'much', 'so', '', '', '\\n28', '', '', '', '', '', '', '', '', '', '', '', '', '', '', '', '', '', '', '', '', '', '', '', '', '', '', '', '', '', '', '', '', '', '', '', '', '', '', '', '', '', '', '', '', '', '', 'GET', 'IT', '', '', '\\n29', '', '', '', '', '', '', '', '', '', '', '', '', '', '', '', '', '', '', '', '', '', '', '', '', '', '', '', '', '', '', '', '', '', '', '', '', '', '', '', '', '', '', '', 'Two', 'Stars', '', '', '\\n...', '', '', '', '', '', '', '', '', '', '', '', '', '', '', '', '', '', '', '', '', '', '', '', '', '', '', '', '', '', '', '', '', '', '', '', '', '', '', '', '', '', '', '', '', '', '', '', '', '...', '', '', '\\n6825', '', '', '', '', '', '', '', '', '', '', '', '', '', '', '', '', '', '', '', '', '', '', '', '', '', '', '', '', '', '', '', '', '', '', '', '', '', '', '', '', '', '', '', '', '', 'happy', '', '', '\\n6826', '', '', '', '', '', '', '', '', '', '', '', '', '', '', '', '', '', '', '', '', '', '', '', '', '', '', '', '', '', '', '', 'Not', 'what', 'I', 'expected', '', '', '\\n6827', '', '', '', '', '', '', '', '', '', '', '', '', '', '', '', '', '', '', '', '', '', '', '', '', '', '', '', '', '', '', '', '', '', '', '', '', '', '', '', '', 'Five', 'Stars', '', '', '\\n6828', '', '', '', '', '', '', '', '', '', '', '', '', '', '', '', '', '', '', '', '', '', '', '', '', '', '', '', '', '', '', '', '', '', '', 'Great', 'for', 'a', 'gift', '', '', '\\n6829', '', '', '', '', '', '', '', '', '', '', '', '', '', '', '', '', '', '', '', '', '', '', '', '', '', '', '', '', '', '', '', '', '', '', '', '', '', '', '', '', 'Four', 'Stars', '', '', '\\n6830', '', '', '', '', '', '', '', '', '', '', '', '', '', '', '', '', '', '', '', '', '', '', '', '', '', '', '', '', '', '', '', '', '', '', '', '', '', '', '', '', '', '', '', '', '', '', '', 'Yes', '', '', '\\n6831', '', '', '', '', '', '', '', '', '', '', '', '', '', '', '', '', '', '', '', '', '', '', '', '', '', '', '', '', '', '', '', '', '', '', '', '', '', '', '', '', '', '', 'One', 'Star', '', '', '\\n6832', '', '', '', '', '', '', '', '', '', '', '', '', '', '', '', '', '', '', '', '', '', '', '', '', '', '', '', '', '', '', '', '', '', '', '', '', '', '', '', '', '', '', 'One', 'Star', '', '', '\\n6833', '', '', '', '', '', '', '', '', '', '', '', '', '', '', '', '', '', '', '', '', '', '', '', '', '', '', '', '', '', '', '', '', '', '', '', '', '', '', '', 'DOT', 'is', 'Good', '', '', '\\n6834', '', '', '', '', '', '', '', '', '', '', '', '', '', '', '', '', '', '', '', '', '', '', '', '', '', '', '', '', '', '', '', '', '', '', '', '', '', '', '', '', 'Five', 'Stars', '', '', '\\n6835', '', '', '', '', '', '', '', '', '', '', '', '', '', '', '', '', '', '', '', '', '', '', '', '', '', '', '', '', '', '', '', '', '', '', '', '', '', '', '', '', '', '', '', 'Amazing', '', '', '\\n6836', '', '', '', '', '', '', '', '', '', '', '', '', '', '', '', '', '', '', '', '', '', '', '', '', '', '', '', '', '', '', '', '', '', '', 'Go', 'get', 'yours!!!!', '', '', '\\n6837', '', '', '', '', '', '', '', '', '', '', '', '', '', '', '', '', '', '', '', '', '', '', '', '', '', '', '', '', '', '', '', '', '', '', '', '', '', '', '', '', 'Five', 'Stars', '', '', '\\n6838', '', '', '', '', '', '', '', '', '', '', '', '', '', '', '', '', '', '', '', '', '', '', '', '', '', '', '', '', '', '', '', '', 'LOVE', 'MY', 'ECHO', 'DOT!!', '', '', '\\n6839', '', '', '', '', '', '', '', '', '', '', '', '', '', '', '', '', '', '', '', '', '', '', '', '', '', '', '', '', '', '', '', '', '', '', '', '', '', '', '', '', '', '', 'Awesome!', '', '', '\\n6840', '', '', '', '', '', '', '', '', '', '', '', '', '', '', '', '', '', '', '', '', '', '', '', '', '', '', '', '', '', '', '', '', '', '', '', '', '', '', '', '', '', '', 'One', 'Star', '', '', '\\n6841', '', '', '', '', '', '', '', '', '', '', '', '', 'Easy', 'Call...literally', 'and', 'figuratively', '', '', '\\n6842', '', '', '', '', '', '', '', '', '', '', '', '', '', '', '', '', '', '', '', '', '', '', '', '', '', '', '', '', '', '', '', '', '', '', '', '', '', '', '', '', 'Five', 'Stars', '', '', '\\n6843', '', '', '', '', '', '', '', '', '', '', '', '', '', '', '', '', '', '', '', '', '', '', '', '', '', '', '', '', '', '', '', '', '', '', '', '', '', '', '', '', '', '', 'Terrific', '', '', '\\n6844', '', '', '', '', '', '', '', '', '', '', '', '', '', '', '', '', '', '', '', '', '', '', '', '', '', '', '', 'Keeping', 'Tabs', 'on', 'my', 'mom!', '', '', '\\n6845', '', '', '', '', '', '', '', '', '', '', '', '', '', '', '', '', 'Perfect', 'for', 'everyone', 'in', 'our', 'family', '', '', '\\n6846', '', '', '', '', '', '', '', '', '', '', '', '', '', '', '', '', 'From', 'what', 'I', 'know', 'so', 'far', 'I', 'love', 'it.', '', '', '\\n6847', '', '', '', '', '', '', '', '', '', '', '', '', '', '', '', '', '', '', '', '', '', '', '', '', '', '', '', '', '', '', '', 'Would', 'not', 'recommend', '', '', '\\n6848', '', '', '', '', '', '', '', '', '', '', '', '', '', '', '', '', '', '', '', '', '', '', '', '', '', '', '', '', '', '', '', '', '', '', '', '', '', '', '', '', '', '', 'One', 'Star', '', '', '\\n6849', '', '', '', '', '', '', '', '', '', '', '', '', '', '', '', '', '', '', '', '', '', '', '', '', '', '', '', '', '', '', '', '', '', '', '', '', '', '', '', '', 'Five', 'Stars', '', '', '\\n6850', '', '', '', '', '', '', '', '', '', '', '', '', '', '', '', '', '', '', '', '', '', '', '', '', '', '', '', '', '', '', 'In', 'love', 'with', 'Alexa!!', '', '', '\\n6851', '', '', '', '', '', '', '', '', '', '', '', '', '', '', '', '', '', '', '', '', '', '', '', '', '', '', '', '', '', '', '', '', '', '', '', '', '', '', '', '', 'Five', 'Stars', '', '', '\\n6852', '', 'We', 'would', 'still', 'like', 'to', 'exchange', 'for', 'something', '...', '', '', '\\n6853', '', '', '', '', '', '', '', '', '', '', '', '', '', '', '', '', '', '', '', '', '', '', '', '', '', '', '', '', '', '', '', '', '', '', 'Simply', 'fabulous!', '', '', '\\n6854', '', 'Bummer,', 'didnt', 'even', 'make', 'it', 'through', 'its', 'voice', 't...', '', '', '\\n\\n', '', '', '', '', '', '', '', '', '', '', '', '', '', '', '', '', '', '', '', '', '', '', '', '', '', '', '', '', '', '', '', '', '', '', '', '', '', '', '', '', '', '', '', 'Review', 'Text', 'Review', 'Color', '', '\\\\\\n0', '', '', '', '', '', '', '', '', '', '', '', '', '', '', '', '', '', '', '', '', '', '', '', '', '', '', '', '', '', '', '', '', '', '', '', 'Not', 'great', 'speakers', '', '', '', '', '', '', '', 'Black', '', '', '\\n1', '', '', '', '', '', '', '', '', '', '', '', '', '', '', '', '', '', '', '', '', '', '', '', '', '', '', '', '', '', '', '', '', '', '', '', 'Great', 'little', 'gagit', '', '', '', '', '', '', '', 'White', '', '', '\\n2', '', '', '', '', '', '', '', '', '', '', '', '', '', '', '', '', '', '', '', '', '', '', '', '', '', '', '', '', '', '', '', '', '', '', '', '', '', '', '', '', '', '', '', 'Awesome', '👏🏽', '', '', '', '', '', '', '', 'White', '', '', '\\n3', '', '', '', '', '', '', '', '', '', '', '', '', '', '', '', '', '', '', '', '', '', '', '', '', '', '', '', '', '', '', '', '', '', '', '', '', '', '', '', '', '', 'Love', 'my', 'Echo', '', '', '', '', '', '', '', 'Black', '', '', '\\n4', '', '', '', '', '', '', '', '', '', '', '', '', '', '', '', '', '', '', '', '', '', '', '', '', '', '', '', '', '', '', '', '', '', '', '', '', '', '', '', '', '', 'Great', 'device', '', '', '', '', '', '', '', 'Black', '', '', '\\n5', '', '', '', '', '', '', '', '', '', '', '', '', '', '', '', '', '', '', '', '', '', '', '', '', '', '', '', '', '', '', '', '', '', '', '', 'I', 'really', 'enjoy', 'itI', '', '', '', '', '', '', '', 'Black', '', '', '\\n6', '', '', '', '', 'Awesome', 'product!', 'However,', 'it', 'does', 'take', 'time', 'fo...', '', '', '', '', '', '', '', 'Black', '', '', '\\n7', '', '', '', '', 'Great', 'for', 'what', 'it', 'is.', 'I', 'have', 'the', 'Echo', 'Show,', 'th...', '', '', '', '', '', '', '', 'Black', '', '', '\\n8', '', '', '', '', 'Died', 'after', 'a', 'few', 'months', 'and', 'not', 'eligible', 'for', 'r...', '', '', '', '', '', '', '', 'Black', '', '', '\\n9', '', '', '', '', 'I', 'bought', 'two', 'of', 'these', 'to', 'use', 'in', 'my', 'house,', 'and', '...', '', '', '', '', '', '', '', 'Black', '', '', '\\n10', '', '', '', 'What', 'more', 'can', 'I', 'say', 'that', 'people', 'don’t', 'already', '...', '', '', '', '', '', '', '', 'White', '', '', '\\n11', '', '', '', 'Alexa...You', 'rock!!', 'OMG', 'people.', 'I', 'am', 'not', 'a', 'tech...', '', '', '', '', '', '', '', 'Black', '', '', '\\n12', '', '', '', '', '', '', '', '', '', '', '', '', '', '', '', '', '', '', '', '', '', '', 'Arrived', 'quickly...great', 'gift!!', '', '', '', '', '', '', '', 'Black', '', '', '\\n13', '', '', '', 'I', 'love', 'using', 'Alexa', 'with', 'the', 'smart', 'outlets', 'for', '...', '', '', '', '', '', '', '', 'White', '', '', '\\n14', '', '', '', 'I', 'like', 'it!!', '', 'I', 'wish', 'it', 'would', 'interface', 'more', 'wi...', '', '', '', '', '', '', '', 'Black', '', '', '\\n15', '', '', '', '', '', '', '', '', 'The', 'best', 'toy', 'I', 'bought', 'myself', 'in', 'a', 'long', 'time.', '', '', '', '', '', '', '', 'Black', '', '', '\\n16', '', '', '', '', '', '', '', '', '', '', '', '', '', '', '', '', '', '', '', '', '', '', '', '', '', '', '', '', '', '', '', '', '', '', '', 'Alexa', 'is', 'the', 'best', '', '', '', '', '', '', '', 'Black', '', '', '\\n17', '', '', '', '', '', '', '', '', '', '', '', '', '', '', '', '', '', 'Cant', 'say', 'enough', '!!I', 'love', 'my', 'DOT!!!!', '', '', '', '', '', '', '', 'Black', '', '', '\\n18', '', '', '', '', '', '', '', '', '', '', 'Not', 'sure', 'I', 'know', 'how', 'to', 'work', 'this', 'just', 'yet.', '', '', '', '', '', '', '', 'White', '', '', '\\n19', '', '', '', '', '', '', '', '', '', '', '', '', '', '', '', '', '', '', '', '', '', '', '', '', '', '', '', '', '', '', '', '', '', '', '', '', '', '', '', '', '', '', '', '', 'echo', 'dot', '', '', '', '', '', '', '', 'Black', '', '', '\\n20', '', '', '', '', '', '', '', '', '', '', '', '', '', '', '', '', '', '', '', '', '', '', '', '', '', '', '', '', '', '', '', '', '', '', '', '', '', '', 'Love', 'the', 'echo!', '', '', '', '', '', '', '', 'Black', '', '', '\\n21', '', '', '', 'Arrived', 'same', 'day', 'and', 'I', 'am', 'learning', 'tool', 'features.', '', '', '', '', '', '', '', 'Black', '', '', '\\n22', '', '', '', '', '', '', \"I'm\", 'in', 'love', 'with', 'my', 'new', 'Echo', 'Dot!', 'I', 'love', 'it😍😍😍', '', '', '', '', '', '', '', 'Black', '', '', '\\n23', '', '', '', 'Great', 'device', ',', 'does', 'so', 'much', 'more', 'than', 'I', 'expected.', '', '', '', '', '', '', '', 'Black', '', '', '\\n24', '', '', '', 'Device', '', 'continuously', 'resets', 'when', 'given', 'a', 'command.', '', '', '', '', '', '', '', 'Black', '', '', '\\n25', '', '', '', 'I', 'bought', 'this', 'as', 'an', 'extension', 'of', 'the', 'Echo', '(I', 'u...', '', '', '', '', '', '', '', 'Black', '', '', '\\n26', '', '', '', 'I', 'want', 'to', 'buy', 'a', 'couple', 'more', 'of', 'these,', 'but', 'am', 'w...', '', '', '', '', '', '', '', 'Black', '', '', '\\n27', '', '', '', 'I', 'like', 'it', 'very', 'much', 'so.', 'Especially', 'when', 'I', 'am', 't...', '', '', '', '', '', '', '', 'Black', '', '', '\\n28', '', '', '', 'What', 'a', 'kick.', 'This', 'is', 'by', 'far', 'the', 'best', 'device', 'ev...', '', '', '', '', '', '', '', 'Black', '', '', '\\n29', '', '', '', '', '', '', '', '', '', '', '', '', '', '', '', '', '', '', '', '', '', '', '', '', '', '', '', '', '', '', '', '', '', '', \"Didn't\", 'know', 'a', 'lot.', '', '', '', '', '', '', '', 'Black', '', '', '\\n...', '', '', '', '', '', '', '', '', '', '', '', '', '', '', '', '', '', '', '', '', '', '', '', '', '', '', '', '', '', '', '', '', '', '', '', '', '', '', '', '', '', '', '', '', '', '', '', '', '...', '', '', '', '', '', '', '', '', '', '...', '', '', '\\n6825', '', '', '', 'exxcellent', 'purchase', 'far', 'exceeds', 'my', 'expectations', '', '', '', '', '', '', '', 'Black', '', '', '\\n6826', '', '', '', '', '', '', '', '', '', '', '', '', '', '', '', '', '', '', '', 'I', 'really', \"don't\", 'care', 'for', 'the', 'dot', '', '', '', '', '', '', '', 'Black', '', '', '\\n6827', '', '', '', '', '', '', '', '', '', '', '', '', '', '', '', '', '', '', '', '', '', '', '', '', '', '', '', '', '', '', '', '', '', '', '', 'simply', 'awesome!', '', '', '', '', '', '', '', 'Black', '', '', '\\n6828', '', 'I', 'bought', 'this', 'for', 'my', 'pre-teen', 'daughter', 'mostly', '...', '', '', '', '', '', '', '', 'Black', '', '', '\\n6829', '', '', '', '', '', '', '', '', '', '', '', '', '', '', '', '', '', '', '', 'Amazon', 'Tech', 'people', 'very', 'helpful', '', '', '', '', '', '', '', 'Black', '', '', '\\n6830', '', '', '', '', '', '', '', '', '', '', '', '', '', '', '', '', '', '', '', '', '', '', '', '', '', '', '', '', '', '', '', '', '', '', '', '', '', '', '', '', '', '', '', '', '', '', 'Yes!', '', '', '', '', '', '', '', 'Black', '', '', '\\n6831', '', 'Sucks', \"doesn't\", 'do', 'anything', 'it', 'said', 'it', 'would', 'do', '...', '', '', '', '', '', '', '', 'White', '', '', '\\n6832', '', \"It's\", 'not', 'compatible', 'with', 'my', 'Vizio', 'TV.', 'My', 'conta...', '', '', '', '', '', '', '', 'Black', '', '', '\\n6833', '', 'Works', 'well.', 'I', 'am', 'hoping', 'to', 'integrate', 'with', 'my', 'A...', '', '', '', '', '', '', '', 'Black', '', '', '\\n6834', '', 'Works', 'great', 'with', 'my', 'Dish', 'Hopper,', 'everyone', 'shou...', '', '', '', '', '', '', '', 'Black', '', '', '\\n6835', '', 'My', 'father', 'would', 'be', 'rolling', 'over', 'in', 'his', 'grave', 'i...', '', '', '', '', '', '', '', 'Black', '', '', '\\n6836', '', '', '', '', '', '', '', '', '', '', '', '', '', '', '', '', '', '', '', '', '', '', '', '', '', '', '', '', '', '', 'I', 'simply', 'love', 'it!!!!', '', '', '', '', '', '', '', 'Black', '', '', '\\n6837', '', '', '', '', '', '', '', '', '', '', '', '', '', '', '', '', '', '', '', '', '', '', '', '', '', '', '', '', '', '', '', '', '', '', '', '', '', 'Love', 'having', '2', '', '', '', '', '', '', '', 'White', '', '', '\\n6838', '', 'Love', 'love', 'love', 'love', 'it.', 'Cut', 'my', 'cable', 'bill', 'by', 'a...', '', '', '', '', '', '', '', 'Black', '', '', '\\n6839', '', 'So', 'convenient!', 'We', 'love', 'getting', 'music,', 'news', 'upd...', '', '', '', '', '', '', '', 'Black', '', '', '\\n6840', '', '', '', '', '', '', '', '', '', '', '', '', '', '', '', '', '', '', '', '', '', '', '', '', '', '', '', \"couldn't\", 'get', 'it', 'to', 'work', '', '', '', '', '', '', '', 'Black', '', '', '\\n6841', '', \"I'm\", 'giving', 'them', 'to', 'family', 'members', 'like', 'Christm...', '', '', '', '', '', '', '', 'Black', '', '', '\\n6842', '', 'Very', 'good', 'product...easily', 'set', 'up...priced', 'right.', '', '', '', '', '', '', '', 'White', '', '', '\\n6843', '', 'I', 'have', 'ordered', '5', 'of', 'these', 'for', 'gifts!', '', 'Fantastic!!', '', '', '', '', '', '', '', 'White', '', '', '\\n6844', '', 'Love', 'this', 'little', 'gadget', 'so', 'much', 'I', 'got', 'my', 'mom', 'o...', '', '', '', '', '', '', '', 'Black', '', '', '\\n6845', '', 'We', 'now', 'have', '4', 'Dots', '&', 'one', 'Show', 'in', 'the', 'house.', 'Pe...', '', '', '', '', '', '', '', 'White', '', '', '\\n6846', '', 'Alexa', 'is', 'exceptional,', 'I', 'am', 'getting', 'use', 'to', 'ever...', '', '', '', '', '', '', '', 'Black', '', '', '\\n6847', '', 'Not', 'very', 'good', 'at', 'understanding', 'commands', 'and', 'ca...', '', '', '', '', '', '', '', 'Black', '', '', '\\n6848', '', '', '', '', '', '', '', '', '', '', '', '', '', '', '', '', '', '', '', '', '', '', '', '', '', '', '', 'She', 'does', 'not', 'know', 'a', 'lot', '', '', '', '', '', '', '', 'Black', '', '', '\\n6849', '', '', '', '', '', '', '', '', '', '', '', '', '', '', '', '', '', '', '', '', '', '', '', '', '', '', '', '', '', '', '', '', '', '', '', '', '', '', '', '', '', '', 'Love', 'it.', '', '', '', '', '', '', '', 'Black', '', '', '\\n6850', '', '', '', '', '', '', '', '', '', '', '', '', '', '', '', '', '', '', 'This', 'is', 'so', 'much', 'fun!', 'I', 'love', 'her.', '', '', '', '', '', '', '', 'Black', '', '', '\\n6851', '', '', '', '', '', '', '', '', '', '', '', '', '', '', '', '', '', '', \"I'm\", 'having', 'a', 'lot', 'of', 'fun', 'with', 'it.', '', '', '', '', '', '', '', 'White', '', '', '\\n6852', '', 'I', 'bought', 'this', 'as', 'a', 'gift', 'for', 'my', 'husband', 'and', 'he', '...', '', '', '', '', '', '', '', 'Black', '', '', '\\n6853', '', 'I', 'have', 'now', 'set', 'Alexa', 'up', 'to', 'control', 'lights', 'in', 'm...', '', '', '', '', '', '', '', 'Black', '', '', '\\n6854', '', 'What', 'a', 'shame,', 'I', 'tried', 'one', 'my', 'friend', 'has', 'and', 'wa...', '', '', '', '', '', '', '', 'Black', '', '', '\\n\\n', '', '', '', '', '', '', '', '', '', 'User', 'Verified', 'Review', 'Date', '', 'Review', 'Useful', 'Count', 'Configuration', 'Text', '', '\\\\\\n0', '', '', '', '', 'Verified', 'Purchase', '', '', '10/3/2017', '', '', '', '', '', '', '', '', '', '', '', '', '', '', '', '', '', 'NaN', '', '', '', '', '', '', '', '', '', '', 'Echo', 'Dot', '', '', '\\n1', '', '', '', '', 'Verified', 'Purchase', '', '', '9/26/2017', '', '', '', '', '', '', '', '', '', '', '', '', '', '', '', '', '', 'NaN', '', '', '', '', '', '', '', '', '', '', 'Echo', 'Dot', '', '', '\\n2', '', '', '', '', 'Verified', 'Purchase', '', '', '', '9/8/2017', '', '', '', '', '', '', '', '', '', '', '', '', '', '', '', '', '', 'NaN', '', '', '', '', '', '', '', '', '', '', 'Echo', 'Dot', '', '', '\\n3', '', '', '', '', 'Verified', 'Purchase', '', '10/19/2017', '', '', '', '', '', '', '', '', '', '', '', '', '', '', '', '', '', 'NaN', '', '', '', '', '', '', '', '', '', '', 'Echo', 'Dot', '', '', '\\n4', '', '', '', '', 'Verified', 'Purchase', '', '', '9/17/2017', '', '', '', '', '', '', '', '', '', '', '', '', '', '', '', '', '', 'NaN', '', '', '', '', '', '', '', '', '', '', 'Echo', 'Dot', '', '', '\\n5', '', '', '', '', 'Verified', 'Purchase', '', '', '9/19/2017', '', '', '', '', '', '', '', '', '', '', '', '', '', '', '', '', '', 'NaN', '', '', '', '', '', '', '', '', '', '', 'Echo', 'Dot', '', '', '\\n6', '', '', '', '', 'Verified', 'Purchase', '', '10/21/2017', '', '', '', '', '', '', '', '', '', '', '', '', '', '', '', '', '', 'NaN', '', '', '', '', '', '', '', '', '', '', 'Echo', 'Dot', '', '', '\\n7', '', '', '', '', 'Verified', 'Purchase', '', '', '9/17/2017', '', '', '', '', '', '', '', '', '', '', '', '', '', '', '', '', '', 'NaN', '', '', '', '', '', '', '', '', '', '', 'Echo', 'Dot', '', '', '\\n8', '', '', '', '', 'Verified', 'Purchase', '', '10/11/2017', '', '', '', '', '', '', '', '', '', '', '', '', '', '', '', '', '', 'NaN', '', '', '', '', '', '', '', '', '', '', 'Echo', 'Dot', '', '', '\\n9', '', '', '', '', 'Verified', 'Purchase', '', '10/11/2017', '', '', '', '', '', '', '', '', '', '', '', '', '', '', '', '', '', 'NaN', '', '', '', '', '', '', '', '', '', '', 'Echo', 'Dot', '', '', '\\n10', '', '', '', 'Verified', 'Purchase', '', '', '9/27/2017', '', '', '', '', '', '', '', '', '', '', '', '', '', '', '', '', '', 'NaN', '', '', '', '', '', '', '', '', '', '', 'Echo', 'Dot', '', '', '\\n11', '', '', '', 'Verified', 'Purchase', '', '', '10/9/2017', '', '', '', '', '', '', '', '', '', '', '', '', '', '', '', '', '', 'NaN', '', '', '', '', '', '', '', '', '', '', 'Echo', 'Dot', '', '', '\\n12', '', '', '', 'Verified', 'Purchase', '', '', '9/28/2017', '', '', '', '', '', '', '', '', '', '', '', '', '', '', '', '', '', 'NaN', '', '', '', '', '', '', '', '', '', '', 'Echo', 'Dot', '', '', '\\n13', '', '', '', 'Verified', 'Purchase', '', '', '9/20/2017', '', '', '', '', '', '', '', '', '', '', '', '', '', '', '', '', '', 'NaN', '', '', '', '', '', '', '', '', '', '', 'Echo', 'Dot', '', '', '\\n14', '', '', '', 'Verified', 'Purchase', '', '', '', '9/7/2017', '', '', '', '', '', '', '', '', '', '', '', '', '', '', '', '', '', 'NaN', '', '', '', '', '', '', '', '', '', '', 'Echo', 'Dot', '', '', '\\n15', '', '', '', 'Verified', 'Purchase', '', '', '10/8/2017', '', '', '', '', '', '', '', '', '', '', '', '', '', '', '', '', '', 'NaN', '', '', '', '', '', '', '', '', '', '', 'Echo', 'Dot', '', '', '\\n16', '', '', '', 'Verified', 'Purchase', '', '', '', '9/6/2017', '', '', '', '', '', '', '', '', '', '', '', '', '', '', '', '', '', 'NaN', '', '', '', '', '', '', '', '', '', '', 'Echo', 'Dot', '', '', '\\n17', '', '', '', 'Verified', 'Purchase', '', '', '10/8/2017', '', '', '', '', '', '', '', '', '', '', '', '', '', '', '', '', '', 'NaN', '', '', '', '', '', '', '', '', '', '', 'Echo', 'Dot', '', '', '\\n18', '', '', '', 'Verified', 'Purchase', '', '', '10/8/2017', '', '', '', '', '', '', '', '', '', '', '', '', '', '', '', '', '', 'NaN', '', '', '', '', '', '', '', '', '', '', 'Echo', 'Dot', '', '', '\\n19', '', '', '', 'Verified', 'Purchase', '', '', '9/14/2017', '', '', '', '', '', '', '', '', '', '', '', '', '', '', '', '', '', 'NaN', '', '', '', '', '', '', '', '', '', '', 'Echo', 'Dot', '', '', '\\n20', '', '', '', 'Verified', 'Purchase', '', '', '', '9/8/2017', '', '', '', '', '', '', '', '', '', '', '', '', '', '', '', '', '', 'NaN', '', '', '', '', '', '', '', '', '', '', 'Echo', 'Dot', '', '', '\\n21', '', '', '', 'Verified', 'Purchase', '', '', '', '9/7/2017', '', '', '', '', '', '', '', '', '', '', '', '', '', '', '', '', '', 'NaN', '', '', '', '', '', '', '', '', '', '', 'Echo', 'Dot', '', '', '\\n22', '', '', '', 'Verified', 'Purchase', '', '', '9/27/2017', '', '', '', '', '', '', '', '', '', '', '', '', '', '', '', '', '', 'NaN', '', '', '', '', '', '', '', '', '', '', 'Echo', 'Dot', '', '', '\\n23', '', '', '', 'Verified', 'Purchase', '', '', '', '9/8/2017', '', '', '', '', '', '', '', '', '', '', '', '', '', '', '', '', '', 'NaN', '', '', '', '', '', '', '', '', '', '', 'Echo', 'Dot', '', '', '\\n24', '', '', '', 'Verified', 'Purchase', '', '', '9/29/2017', '', '', '', '', '', '', '', '', '', '', '', '', '', '', '', '', '', 'NaN', '', '', '', '', '', '', '', '', '', '', 'Echo', 'Dot', '', '', '\\n25', '', '', '', 'Verified', 'Purchase', '', '', '9/17/2017', '', '', '', '', '', '', '', '', '', '', '', '', '', '', '', '', '', 'NaN', '', '', '', '', '', '', '', '', '', '', 'Echo', 'Dot', '', '', '\\n26', '', '', '', 'Verified', 'Purchase', '', '', '9/27/2017', '', '', '', '', '', '', '', '', '', '', '', '', '', '', '', '', '', 'NaN', '', '', '', '', '', '', '', '', '', '', 'Echo', 'Dot', '', '', '\\n27', '', '', '', 'Verified', 'Purchase', '', '', '10/4/2017', '', '', '', '', '', '', '', '', '', '', '', '', '', '', '', '', '', 'NaN', '', '', '', '', '', '', '', '', '', '', 'Echo', 'Dot', '', '', '\\n28', '', '', '', 'Verified', 'Purchase', '', '', '9/17/2017', '', '', '', '', '', '', '', '', '', '', '', '', '', '', '', '', '', 'NaN', '', '', '', '', '', '', '', '', '', '', 'Echo', 'Dot', '', '', '\\n29', '', '', '', 'Verified', 'Purchase', '', '', '10/9/2017', '', '', '', '', '', '', '', '', '', '', '', '', '', '', '', '', '', 'NaN', '', '', '', '', '', '', '', '', '', '', 'Echo', 'Dot', '', '', '\\n...', '', '', '', '', '', '', '', '', '', '', '', '', '', '', '', '', '...', '', '', '', '', '', '', '', '', '...', '', '', '', '', '', '', '', '', '', '', '', '', '', '', '', '', '', '...', '', '', '', '', '', '', '', '', '', '', '', '', '', '', '', '...', '', '', '\\n6825', '', 'Verified', 'Purchase', '', '', '10/8/2017', '', '', '', '', '', '', '', '', '', '', '', '', '', '', '', '', '', 'NaN', '', '', '', '', '', '', '', '', '', '', 'Echo', 'Dot', '', '', '\\n6826', '', 'Verified', 'Purchase', '', '', '10/3/2017', '', '', '', '', '', '', '', '', '', '', '', '', '', '', '', '', '', 'NaN', '', '', '', '', '', '', '', '', '', '', 'Echo', 'Dot', '', '', '\\n6827', '', 'Verified', 'Purchase', '', '10/24/2017', '', '', '', '', '', '', '', '', '', '', '', '', '', '', '', '', '', 'NaN', '', '', '', '', '', '', '', '', '', '', 'Echo', 'Dot', '', '', '\\n6828', '', 'Verified', 'Purchase', '', '', '10/8/2017', '', '', '', '', '', '', '', '', '', '', '', '', '', '', '', '', '', 'NaN', '', '', '', '', '', '', '', '', '', '', 'Echo', 'Dot', '', '', '\\n6829', '', 'Verified', 'Purchase', '', '10/23/2017', '', '', '', '', '', '', '', '', '', '', '', '', '', '', '', '', '', 'NaN', '', '', '', '', '', '', '', '', '', '', 'Echo', 'Dot', '', '', '\\n6830', '', 'Verified', 'Purchase', '', '', '10/3/2017', '', '', '', '', '', '', '', '', '', '', '', '', '', '', '', '', '', 'NaN', '', '', '', '', '', '', '', '', '', '', 'Echo', 'Dot', '', '', '\\n6831', '', 'Verified', 'Purchase', '', '', '9/19/2017', '', '', '', '', '', '', '', '', '', '', '', '', '', '', '', '', '', 'NaN', '', '', '', '', '', '', '', '', '', '', 'Echo', 'Dot', '', '', '\\n6832', '', 'Verified', 'Purchase', '', '', '9/26/2017', '', '', '', '', '', '', '', '', '', '', '', '', '', '', '', '', '', 'NaN', '', '', '', '', '', '', '', '', '', '', 'Echo', 'Dot', '', '', '\\n6833', '', 'Verified', 'Purchase', '', '', '', '9/5/2017', '', '', '', '', '', '', '', '', '', '', '', '', '', '', '', '', '', 'NaN', '', '', '', '', '', '', '', '', '', '', 'Echo', 'Dot', '', '', '\\n6834', '', 'Verified', 'Purchase', '', '', '', '9/5/2017', '', '', '', '', '', '', '', '', '', '', '', '', '', '', '', '', '', 'NaN', '', '', '', '', '', '', '', '', '', '', 'Echo', 'Dot', '', '', '\\n6835', '', 'Verified', 'Purchase', '', '', '9/15/2017', '', '', '', '', '', '', '', '', '', '', '', '', '', '', '', '', '', 'NaN', '', '', '', '', '', '', '', '', '', '', 'Echo', 'Dot', '', '', '\\n6836', '', 'Verified', 'Purchase', '', '', '10/8/2017', '', '', '', '', '', '', '', '', '', '', '', '', '', '', '', '', '', 'NaN', '', '', '', '', '', '', '', '', '', '', 'Echo', 'Dot', '', '', '\\n6837', '', 'Verified', 'Purchase', '', '', '9/11/2017', '', '', '', '', '', '', '', '', '', '', '', '', '', '', '', '', '', 'NaN', '', '', '', '', '', '', '', '', '', '', 'Echo', 'Dot', '', '', '\\n6838', '', 'Verified', 'Purchase', '', '', '', '9/7/2017', '', '', '', '', '', '', '', '', '', '', '', '', '', '', '', '', '', 'NaN', '', '', '', '', '', '', '', '', '', '', 'Echo', 'Dot', '', '', '\\n6839', '', 'Verified', 'Purchase', '', '10/10/2017', '', '', '', '', '', '', '', '', '', '', '', '', '', '', '', '', '', 'NaN', '', '', '', '', '', '', '', '', '', '', 'Echo', 'Dot', '', '', '\\n6840', '', 'Verified', 'Purchase', '', '', '9/13/2017', '', '', '', '', '', '', '', '', '', '', '', '', '', '', '', '', '', 'NaN', '', '', '', '', '', '', '', '', '', '', 'Echo', 'Dot', '', '', '\\n6841', '', 'Verified', 'Purchase', '', '', '9/26/2017', '', '', '', '', '', '', '', '', '', '', '', '', '', '', '', '', '', 'NaN', '', '', '', '', '', '', '', '', '', '', 'Echo', 'Dot', '', '', '\\n6842', '', 'Verified', 'Purchase', '', '10/19/2017', '', '', '', '', '', '', '', '', '', '', '', '', '', '', '', '', '', 'NaN', '', '', '', '', '', '', '', '', '', '', 'Echo', 'Dot', '', '', '\\n6843', '', 'Verified', 'Purchase', '', '', '9/20/2017', '', '', '', '', '', '', '', '', '', '', '', '', '', '', '', '', '', 'NaN', '', '', '', '', '', '', '', '', '', '', 'Echo', 'Dot', '', '', '\\n6844', '', 'Verified', 'Purchase', '', '', '', '9/1/2017', '', '', '', '', '', '', '', '', '', '', '', '', '', '', '', '', '', 'NaN', '', '', '', '', '', '', '', '', '', '', 'Echo', 'Dot', '', '', '\\n6845', '', 'Verified', 'Purchase', '', '', '9/13/2017', '', '', '', '', '', '', '', '', '', '', '', '', '', '', '', '', '', 'NaN', '', '', '', '', '', '', '', '', '', '', 'Echo', 'Dot', '', '', '\\n6846', '', 'Verified', 'Purchase', '', '', '', '9/4/2017', '', '', '', '', '', '', '', '', '', '', '', '', '', '', '', '', '', 'NaN', '', '', '', '', '', '', '', '', '', '', 'Echo', 'Dot', '', '', '\\n6847', '', 'Verified', 'Purchase', '', '10/23/2017', '', '', '', '', '', '', '', '', '', '', '', '', '', '', '', '', '', 'NaN', '', '', '', '', '', '', '', '', '', '', 'Echo', 'Dot', '', '', '\\n6848', '', 'Verified', 'Purchase', '', '', '9/15/2017', '', '', '', '', '', '', '', '', '', '', '', '', '', '', '', '', '', 'NaN', '', '', '', '', '', '', '', '', '', '', 'Echo', 'Dot', '', '', '\\n6849', '', 'Verified', 'Purchase', '', '', '9/14/2017', '', '', '', '', '', '', '', '', '', '', '', '', '', '', '', '', '', 'NaN', '', '', '', '', '', '', '', '', '', '', 'Echo', 'Dot', '', '', '\\n6850', '', 'Verified', 'Purchase', '', '', '9/17/2017', '', '', '', '', '', '', '', '', '', '', '', '', '', '', '', '', '', 'NaN', '', '', '', '', '', '', '', '', '', '', 'Echo', 'Dot', '', '', '\\n6851', '', 'Verified', 'Purchase', '', '', '9/16/2017', '', '', '', '', '', '', '', '', '', '', '', '', '', '', '', '', '', 'NaN', '', '', '', '', '', '', '', '', '', '', 'Echo', 'Dot', '', '', '\\n6852', '', 'Verified', 'Purchase', '', '', '9/26/2017', '', '', '', '', '', '', '', '', '', '', '', '', '', '', '', '', '', 'NaN', '', '', '', '', '', '', '', '', '', '', 'Echo', 'Dot', '', '', '\\n6853', '', 'Verified', 'Purchase', '', '', '9/27/2017', '', '', '', '', '', '', '', '', '', '', '', '', '', '', '', '', '', 'NaN', '', '', '', '', '', '', '', '', '', '', 'Echo', 'Dot', '', '', '\\n6854', '', 'Verified', 'Purchase', '', '', '9/12/2017', '', '', '', '', '', '', '', '', '', '', '', '', '', '', '', '', '', 'NaN', '', '', '', '', '', '', '', '', '', '', 'Echo', 'Dot', '', '', '\\n\\n', '', '', '', '', '', 'Rating', 'Declaration', 'Text', '', '\\n0', '', '', '', '', '', '', '', '', '', '3', '', '', '', '', '', '', '', '', '', '', '', '', '', 'NaN', '', '\\n1', '', '', '', '', '', '', '', '', '', '4', '', '', '', '', '', '', '', '', '', '', '', '', '', 'NaN', '', '\\n2', '', '', '', '', '', '', '', '', '', '5', '', '', '', '', '', '', '', '', '', '', '', '', '', 'NaN', '', '\\n3', '', '', '', '', '', '', '', '', '', '5', '', '', '', '', '', '', '', '', '', '', '', '', '', 'NaN', '', '\\n4', '', '', '', '', '', '', '', '', '', '5', '', '', '', '', '', '', '', '', '', '', '', '', '', 'NaN', '', '\\n5', '', '', '', '', '', '', '', '', '', '5', '', '', '', '', '', '', '', '', '', '', '', '', '', 'NaN', '', '\\n6', '', '', '', '', '', '', '', '', '', '4', '', '', '', '', '', '', '', '', '', '', '', '', '', 'NaN', '', '\\n7', '', '', '', '', '', '', '', '', '', '5', '', '', '', '', '', '', '', '', '', '', '', '', '', 'NaN', '', '\\n8', '', '', '', '', '', '', '', '', '', '1', '', '', '', '', '', '', '', '', '', '', '', '', '', 'NaN', '', '\\n9', '', '', '', '', '', '', '', '', '', '5', '', '', '', '', '', '', '', '', '', '', '', '', '', 'NaN', '', '\\n10', '', '', '', '', '', '', '', '', '5', '', '', '', '', '', '', '', '', '', '', '', '', '', 'NaN', '', '\\n11', '', '', '', '', '', '', '', '', '5', '', '', '', '', '', '', '', '', '', '', '', '', '', 'NaN', '', '\\n12', '', '', '', '', '', '', '', '', '5', '', '', '', '', '', '', '', '', '', '', '', '', '', 'NaN', '', '\\n13', '', '', '', '', '', '', '', '', '5', '', '', '', '', '', '', '', '', '', '', '', '', '', 'NaN', '', '\\n14', '', '', '', '', '', '', '', '', '5', '', '', '', '', '', '', '', '', '', '', '', '', '', 'NaN', '', '\\n15', '', '', '', '', '', '', '', '', '5', '', '', '', '', '', '', '', '', '', '', '', '', '', 'NaN', '', '\\n16', '', '', '', '', '', '', '', '', '5', '', '', '', '', '', '', '', '', '', '', '', '', '', 'NaN', '', '\\n17', '', '', '', '', '', '', '', '', '5', '', '', '', '', '', '', '', '', '', '', '', '', '', 'NaN', '', '\\n18', '', '', '', '', '', '', '', '', '3', '', '', '', '', '', '', '', '', '', '', '', '', '', 'NaN', '', '\\n19', '', '', '', '', '', '', '', '', '3', '', '', '', '', '', '', '', '', '', '', '', '', '', 'NaN', '', '\\n20', '', '', '', '', '', '', '', '', '5', '', '', '', '', '', '', '', '', '', '', '', '', '', 'NaN', '', '\\n21', '', '', '', '', '', '', '', '', '5', '', '', '', '', '', '', '', '', '', '', '', '', '', 'NaN', '', '\\n22', '', '', '', '', '', '', '', '', '5', '', '', '', '', '', '', '', '', '', '', '', '', '', 'NaN', '', '\\n23', '', '', '', '', '', '', '', '', '5', '', '', '', '', '', '', '', '', '', '', '', '', '', 'NaN', '', '\\n24', '', '', '', '', '', '', '', '', '3', '', '', '', '', '', '', '', '', '', '', '', '', '', 'NaN', '', '\\n25', '', '', '', '', '', '', '', '', '4', '', '', '', '', '', '', '', '', '', '', '', '', '', 'NaN', '', '\\n26', '', '', '', '', '', '', '', '', '5', '', '', '', '', '', '', '', '', '', '', '', '', '', 'NaN', '', '\\n27', '', '', '', '', '', '', '', '', '5', '', '', '', '', '', '', '', '', '', '', '', '', '', 'NaN', '', '\\n28', '', '', '', '', '', '', '', '', '5', '', '', '', '', '', '', '', '', '', '', '', '', '', 'NaN', '', '\\n29', '', '', '', '', '', '', '', '', '2', '', '', '', '', '', '', '', '', '', '', '', '', '', 'NaN', '', '\\n...', '', '', '', '', '', '...', '', '', '', '', '', '', '', '', '', '', '', '', '', '...', '', '\\n6825', '', '', '', '', '', '', '5', '', '', '', '', '', '', '', '', '', '', '', '', '', 'NaN', '', '\\n6826', '', '', '', '', '', '', '1', '', '', '', '', '', '', '', '', '', '', '', '', '', 'NaN', '', '\\n6827', '', '', '', '', '', '', '5', '', '', '', '', '', '', '', '', '', '', '', '', '', 'NaN', '', '\\n6828', '', '', '', '', '', '', '5', '', '', '', '', '', '', '', '', '', '', '', '', '', 'NaN', '', '\\n6829', '', '', '', '', '', '', '4', '', '', '', '', '', '', '', '', '', '', '', '', '', 'NaN', '', '\\n6830', '', '', '', '', '', '', '5', '', '', '', '', '', '', '', '', '', '', '', '', '', 'NaN', '', '\\n6831', '', '', '', '', '', '', '1', '', '', '', '', '', '', '', '', '', '', '', '', '', 'NaN', '', '\\n6832', '', '', '', '', '', '', '1', '', '', '', '', '', '', '', '', '', '', '', '', '', 'NaN', '', '\\n6833', '', '', '', '', '', '', '4', '', '', '', '', '', '', '', '', '', '', '', '', '', 'NaN', '', '\\n6834', '', '', '', '', '', '', '5', '', '', '', '', '', '', '', '', '', '', '', '', '', 'NaN', '', '\\n6835', '', '', '', '', '', '', '5', '', '', '', '', '', '', '', '', '', '', '', '', '', 'NaN', '', '\\n6836', '', '', '', '', '', '', '5', '', '', '', '', '', '', '', '', '', '', '', '', '', 'NaN', '', '\\n6837', '', '', '', '', '', '', '5', '', '', '', '', '', '', '', '', '', '', '', '', '', 'NaN', '', '\\n6838', '', '', '', '', '', '', '5', '', '', '', '', '', '', '', '', '', '', '', '', '', 'NaN', '', '\\n6839', '', '', '', '', '', '', '5', '', '', '', '', '', '', '', '', '', '', '', '', '', 'NaN', '', '\\n6840', '', '', '', '', '', '', '1', '', '', '', '', '', '', '', '', '', '', '', '', '', 'NaN', '', '\\n6841', '', '', '', '', '', '', '5', '', '', '', '', '', '', '', '', '', '', '', '', '', 'NaN', '', '\\n6842', '', '', '', '', '', '', '5', '', '', '', '', '', '', '', '', '', '', '', '', '', 'NaN', '', '\\n6843', '', '', '', '', '', '', '5', '', '', '', '', '', '', '', '', '', '', '', '', '', 'NaN', '', '\\n6844', '', '', '', '', '', '', '5', '', '', '', '', '', '', '', '', '', '', '', '', '', 'NaN', '', '\\n6845', '', '', '', '', '', '', '5', '', '', '', '', '', '', '', '', '', '', '', '', '', 'NaN', '', '\\n6846', '', '', '', '', '', '', '5', '', '', '', '', '', '', '', '', '', '', '', '', '', 'NaN', '', '\\n6847', '', '', '', '', '', '', '2', '', '', '', '', '', '', '', '', '', '', '', '', '', 'NaN', '', '\\n6848', '', '', '', '', '', '', '1', '', '', '', '', '', '', '', '', '', '', '', '', '', 'NaN', '', '\\n6849', '', '', '', '', '', '', '5', '', '', '', '', '', '', '', '', '', '', '', '', '', 'NaN', '', '\\n6850', '', '', '', '', '', '', '5', '', '', '', '', '', '', '', '', '', '', '', '', '', 'NaN', '', '\\n6851', '', '', '', '', '', '', '5', '', '', '', '', '', '', '', '', '', '', '', '', '', 'NaN', '', '\\n6852', '', '', '', '', '', '', '3', '', '', '', '', '', '', '', '', '', '', '', '', '', 'NaN', '', '\\n6853', '', '', '', '', '', '', '5', '', '', '', '', '', '', '', '', '', '', '', '', '', 'NaN', '', '\\n6854', '', '', '', '', '', '', '2', '', '', '', '', '', '', '', '', '', '', '', '', '', 'NaN', '', '\\n\\n[6855', 'rows', 'x', '10', 'columns]']\n",
      "\n",
      "\n",
      " tokenized and lemmatized document: \n"
     ]
    },
    {
     "ename": "NameError",
     "evalue": "name 'stemmer' is not defined",
     "output_type": "error",
     "traceback": [
      "\u001b[0;31m---------------------------------------------------------------------------\u001b[0m",
      "\u001b[0;31mNameError\u001b[0m                                 Traceback (most recent call last)",
      "\u001b[0;32m<ipython-input-22-cb6a40c70aca>\u001b[0m in \u001b[0;36m<module>\u001b[0;34m()\u001b[0m\n\u001b[1;32m      8\u001b[0m \u001b[0mprint\u001b[0m\u001b[0;34m(\u001b[0m\u001b[0mwords\u001b[0m\u001b[0;34m)\u001b[0m\u001b[0;34m\u001b[0m\u001b[0m\n\u001b[1;32m      9\u001b[0m \u001b[0mprint\u001b[0m\u001b[0;34m(\u001b[0m\u001b[0;34m'\\n\\n tokenized and lemmatized document: '\u001b[0m\u001b[0;34m)\u001b[0m\u001b[0;34m\u001b[0m\u001b[0m\n\u001b[0;32m---> 10\u001b[0;31m \u001b[0mprint\u001b[0m\u001b[0;34m(\u001b[0m\u001b[0mpreprocess\u001b[0m\u001b[0;34m(\u001b[0m\u001b[0mdoc_sample\u001b[0m\u001b[0;34m)\u001b[0m\u001b[0;34m)\u001b[0m\u001b[0;34m\u001b[0m\u001b[0m\n\u001b[0m",
      "\u001b[0;32m<ipython-input-8-a6b1c5b2ea32>\u001b[0m in \u001b[0;36mpreprocess\u001b[0;34m(text)\u001b[0m\n\u001b[1;32m      5\u001b[0m     \u001b[0;32mfor\u001b[0m \u001b[0mtoken\u001b[0m \u001b[0;32min\u001b[0m \u001b[0mgensim\u001b[0m\u001b[0;34m.\u001b[0m\u001b[0mutils\u001b[0m\u001b[0;34m.\u001b[0m\u001b[0msimple_preprocess\u001b[0m\u001b[0;34m(\u001b[0m\u001b[0mtext\u001b[0m\u001b[0;34m)\u001b[0m\u001b[0;34m:\u001b[0m\u001b[0;34m\u001b[0m\u001b[0m\n\u001b[1;32m      6\u001b[0m         \u001b[0;32mif\u001b[0m \u001b[0mtoken\u001b[0m \u001b[0;32mnot\u001b[0m \u001b[0;32min\u001b[0m \u001b[0mgensim\u001b[0m\u001b[0;34m.\u001b[0m\u001b[0mparsing\u001b[0m\u001b[0;34m.\u001b[0m\u001b[0mpreprocessing\u001b[0m\u001b[0;34m.\u001b[0m\u001b[0mSTOPWORDS\u001b[0m \u001b[0;32mand\u001b[0m \u001b[0mlen\u001b[0m\u001b[0;34m(\u001b[0m\u001b[0mtoken\u001b[0m\u001b[0;34m)\u001b[0m \u001b[0;34m>\u001b[0m \u001b[0;36m3\u001b[0m\u001b[0;34m:\u001b[0m\u001b[0;34m\u001b[0m\u001b[0m\n\u001b[0;32m----> 7\u001b[0;31m             \u001b[0mresult\u001b[0m\u001b[0;34m.\u001b[0m\u001b[0mappend\u001b[0m\u001b[0;34m(\u001b[0m\u001b[0mlemmatize_stemming\u001b[0m\u001b[0;34m(\u001b[0m\u001b[0mtoken\u001b[0m\u001b[0;34m)\u001b[0m\u001b[0;34m)\u001b[0m\u001b[0;34m\u001b[0m\u001b[0m\n\u001b[0m\u001b[1;32m      8\u001b[0m     \u001b[0;32mreturn\u001b[0m \u001b[0mresult\u001b[0m\u001b[0;34m\u001b[0m\u001b[0m\n",
      "\u001b[0;32m<ipython-input-8-a6b1c5b2ea32>\u001b[0m in \u001b[0;36mlemmatize_stemming\u001b[0;34m(text)\u001b[0m\n\u001b[1;32m      1\u001b[0m \u001b[0;32mdef\u001b[0m \u001b[0mlemmatize_stemming\u001b[0m\u001b[0;34m(\u001b[0m\u001b[0mtext\u001b[0m\u001b[0;34m)\u001b[0m\u001b[0;34m:\u001b[0m\u001b[0;34m\u001b[0m\u001b[0m\n\u001b[0;32m----> 2\u001b[0;31m     \u001b[0;32mreturn\u001b[0m \u001b[0mstemmer\u001b[0m\u001b[0;34m.\u001b[0m\u001b[0mstem\u001b[0m\u001b[0;34m(\u001b[0m\u001b[0mWordNetLemmatizer\u001b[0m\u001b[0;34m(\u001b[0m\u001b[0;34m)\u001b[0m\u001b[0;34m.\u001b[0m\u001b[0mlemmatize\u001b[0m\u001b[0;34m(\u001b[0m\u001b[0mtext\u001b[0m\u001b[0;34m,\u001b[0m \u001b[0mpos\u001b[0m\u001b[0;34m=\u001b[0m\u001b[0;34m'v'\u001b[0m\u001b[0;34m)\u001b[0m\u001b[0;34m)\u001b[0m\u001b[0;34m\u001b[0m\u001b[0m\n\u001b[0m\u001b[1;32m      3\u001b[0m \u001b[0;32mdef\u001b[0m \u001b[0mpreprocess\u001b[0m\u001b[0;34m(\u001b[0m\u001b[0mtext\u001b[0m\u001b[0;34m)\u001b[0m\u001b[0;34m:\u001b[0m\u001b[0;34m\u001b[0m\u001b[0m\n\u001b[1;32m      4\u001b[0m     \u001b[0mresult\u001b[0m \u001b[0;34m=\u001b[0m \u001b[0;34m[\u001b[0m\u001b[0;34m]\u001b[0m\u001b[0;34m\u001b[0m\u001b[0m\n\u001b[1;32m      5\u001b[0m     \u001b[0;32mfor\u001b[0m \u001b[0mtoken\u001b[0m \u001b[0;32min\u001b[0m \u001b[0mgensim\u001b[0m\u001b[0;34m.\u001b[0m\u001b[0mutils\u001b[0m\u001b[0;34m.\u001b[0m\u001b[0msimple_preprocess\u001b[0m\u001b[0;34m(\u001b[0m\u001b[0mtext\u001b[0m\u001b[0;34m)\u001b[0m\u001b[0;34m:\u001b[0m\u001b[0;34m\u001b[0m\u001b[0m\n",
      "\u001b[0;31mNameError\u001b[0m: name 'stemmer' is not defined"
     ]
    }
   ],
   "source": [
    "# Select a document to preview after preprocessing.\n",
    "\n",
    "doc_sample = str(data) #documents[documents['index'] == 4310].values[0][0]\n",
    "print('original document: ')\n",
    "words = []\n",
    "for word in doc_sample.split(' '):\n",
    "    words.append(word)\n",
    "print(words)\n",
    "print('\\n\\n tokenized and lemmatized document: ')\n",
    "print(preprocess(doc_sample))"
   ]
  },
  {
   "cell_type": "code",
   "execution_count": 23,
   "metadata": {
    "ExecuteTime": {
     "end_time": "2018-08-23T19:26:57.241034Z",
     "start_time": "2018-08-23T19:26:57.223444Z"
    }
   },
   "outputs": [
    {
     "ename": "NameError",
     "evalue": "name 'processed_docs' is not defined",
     "output_type": "error",
     "traceback": [
      "\u001b[0;31m---------------------------------------------------------------------------\u001b[0m",
      "\u001b[0;31mNameError\u001b[0m                                 Traceback (most recent call last)",
      "\u001b[0;32m<ipython-input-23-4987e80d8062>\u001b[0m in \u001b[0;36m<module>\u001b[0;34m()\u001b[0m\n\u001b[1;32m      2\u001b[0m \u001b[0;31m# words and how many times those words appear. Save this to ‘bow_corpus’, then check our selected document earlier.\u001b[0m\u001b[0;34m\u001b[0m\u001b[0;34m\u001b[0m\u001b[0m\n\u001b[1;32m      3\u001b[0m \u001b[0;34m\u001b[0m\u001b[0m\n\u001b[0;32m----> 4\u001b[0;31m \u001b[0mbow_corpus\u001b[0m \u001b[0;34m=\u001b[0m \u001b[0;34m[\u001b[0m\u001b[0mdictionary\u001b[0m\u001b[0;34m.\u001b[0m\u001b[0mdoc2bow\u001b[0m\u001b[0;34m(\u001b[0m\u001b[0mdoc\u001b[0m\u001b[0;34m)\u001b[0m \u001b[0;32mfor\u001b[0m \u001b[0mdoc\u001b[0m \u001b[0;32min\u001b[0m \u001b[0mprocessed_docs\u001b[0m\u001b[0;34m]\u001b[0m\u001b[0;34m\u001b[0m\u001b[0m\n\u001b[0m\u001b[1;32m      5\u001b[0m \u001b[0mbow_corpus\u001b[0m\u001b[0;34m[\u001b[0m\u001b[0;36m4310\u001b[0m\u001b[0;34m]\u001b[0m\u001b[0;34m\u001b[0m\u001b[0m\n",
      "\u001b[0;31mNameError\u001b[0m: name 'processed_docs' is not defined"
     ]
    }
   ],
   "source": [
    "# For each document we create a dictionary reporting how many\n",
    "# words and how many times those words appear. Save this to ‘bow_corpus’, then check our selected document earlier.\n",
    "\n",
    "bow_corpus = [dictionary.doc2bow(doc) for doc in processed_docs]\n",
    "bow_corpus[4310]"
   ]
  },
  {
   "cell_type": "code",
   "execution_count": null,
   "metadata": {},
   "outputs": [],
   "source": [
    "# For each document we create a dictionary reporting how many\n",
    "# words and how many times those words appear. Save this to ‘bow_corpus’, \n",
    "# then check our selected document earlier.\n",
    "\n",
    "bow_doc_4310 = bow_corpus[4310]\n",
    "for i in range(len(bow_doc_4310)):\n",
    "    print(\"Word {} (\\\"{}\\\") appears {} time.\".format(bow_doc_4310[i][0], \n",
    "                                               dictionary[bow_doc_4310[i][0]], \n",
    "bow_doc_4310[i][1]))"
   ]
  },
  {
   "cell_type": "code",
   "execution_count": null,
   "metadata": {},
   "outputs": [],
   "source": [
    "# Create tf-idf model object using models.TfidfModel on ‘bow_corpus’ and save it to ‘tfidf’, \n",
    "# then apply transformation to the entire corpus and call it ‘corpus_tfidf’. Finally we preview TF-IDF scores for our first document.\n",
    "\n",
    "from gensim import corpora, models\n",
    "tfidf = models.TfidfModel(bow_corpus)\n",
    "corpus_tfidf = tfidf[bow_corpus]\n",
    "from pprint import pprint\n",
    "for doc in corpus_tfidf:\n",
    "    pprint(doc)\n",
    "    break"
   ]
  },
  {
   "cell_type": "code",
   "execution_count": null,
   "metadata": {},
   "outputs": [],
   "source": [
    "# Train our lda model using gensim.models.LdaMulticore and save it to ‘lda_model’\n",
    "\n",
    "lda_model = gensim.models.LdaMulticore(bow_corpus, num_topics=10, id2word=dictionary, passes=2, workers=2)"
   ]
  },
  {
   "cell_type": "code",
   "execution_count": null,
   "metadata": {},
   "outputs": [],
   "source": [
    "# For each topic, we will explore the words occuring in that topic and its relative weight.\n",
    "\n",
    "for idx, topic in lda_model.print_topics(-1):\n",
    "    print('Topic: {} \\nWords: {}'.format(idx, topic))"
   ]
  },
  {
   "cell_type": "code",
   "execution_count": null,
   "metadata": {},
   "outputs": [],
   "source": [
    "# Running LDA using TF-IDF\n",
    "\n",
    "lda_model_tfidf = gensim.models.LdaMulticore(corpus_tfidf, num_topics=10, id2word=dictionary, passes=2, workers=4)\n",
    "for idx, topic in lda_model_tfidf.print_topics(-1):\n",
    "    print('Topic: {} Word: {}'.format(idx, topic))"
   ]
  },
  {
   "cell_type": "code",
   "execution_count": null,
   "metadata": {},
   "outputs": [],
   "source": [
    "# Performance evaluation by classifying sample document using LDA TF-IDF model.\n",
    "\n",
    "for index, score in sorted(lda_model_tfidf[bow_corpus[4310]], key=lambda tup: -1*tup[1]):\n",
    "    print(\"\\nScore: {}\\t \\nTopic: {}\".format(score, lda_model_tfidf.print_topic(index, 10)))"
   ]
  },
  {
   "cell_type": "code",
   "execution_count": null,
   "metadata": {},
   "outputs": [],
   "source": [
    "# Testing model on unseen document\n",
    "\n",
    "unseen_document = 'How a Pentagon deal became an identity crisis for Google'\n",
    "bow_vector = dictionary.doc2bow(preprocess(unseen_document))\n",
    "for index, score in sorted(lda_model[bow_vector], key=lambda tup: -1*tup[1]):\n",
    "    print(\"Score: {}\\t Topic: {}\".format(score, lda_model.print_topic(index, 5)))"
   ]
  }
 ],
 "metadata": {
  "kernelspec": {
   "display_name": "Python 3",
   "language": "python",
   "name": "python3"
  },
  "language_info": {
   "codemirror_mode": {
    "name": "ipython",
    "version": 3
   },
   "file_extension": ".py",
   "mimetype": "text/x-python",
   "name": "python",
   "nbconvert_exporter": "python",
   "pygments_lexer": "ipython3",
   "version": "3.6.6"
  },
  "varInspector": {
   "cols": {
    "lenName": 16,
    "lenType": 16,
    "lenVar": 40
   },
   "kernels_config": {
    "python": {
     "delete_cmd_postfix": "",
     "delete_cmd_prefix": "del ",
     "library": "var_list.py",
     "varRefreshCmd": "print(var_dic_list())"
    },
    "r": {
     "delete_cmd_postfix": ") ",
     "delete_cmd_prefix": "rm(",
     "library": "var_list.r",
     "varRefreshCmd": "cat(var_dic_list()) "
    }
   },
   "types_to_exclude": [
    "module",
    "function",
    "builtin_function_or_method",
    "instance",
    "_Feature"
   ],
   "window_display": false
  }
 },
 "nbformat": 4,
 "nbformat_minor": 2
}
